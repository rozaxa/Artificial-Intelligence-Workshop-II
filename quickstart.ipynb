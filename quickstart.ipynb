{
  "cells": [
    {
      "cell_type": "markdown",
      "metadata": {
        "id": "view-in-github",
        "colab_type": "text"
      },
      "source": [
        "<a href=\"https://colab.research.google.com/github/rozaxa/Artificial-Intelligence-Workshop-II/blob/Optuna/quickstart.ipynb\" target=\"_parent\"><img src=\"https://colab.research.google.com/assets/colab-badge.svg\" alt=\"Open In Colab\"/></a>"
      ]
    },
    {
      "cell_type": "markdown",
      "metadata": {
        "id": "_ZUCo5afBR5i"
      },
      "source": [
        "# A Quick Introduction to Optuna\n",
        "\n",
        "This Jupyter notebook goes through the basic usage of Optuna.\n",
        "\n",
        "- Install Optuna\n",
        "- Write a training algorithm that involves hyperparameters\n",
        "  - Read train/valid data\n",
        "  - Define and train model\n",
        "  - Evaluate model\n",
        "- Use Optuna to tune the hyperparameters (hyperparameter optimization, HPO)\n",
        "- Visualize HPO"
      ]
    },
    {
      "cell_type": "markdown",
      "metadata": {
        "id": "fmIse-7LBR5m"
      },
      "source": [
        "## Install `optuna`\n",
        "\n",
        "Optuna can be installed via `pip` or `conda`."
      ]
    },
    {
      "cell_type": "code",
      "execution_count": 18,
      "metadata": {
        "id": "5lUFxUkEBR5n"
      },
      "outputs": [],
      "source": [
        "!pip install --quiet optuna"
      ]
    },
    {
      "cell_type": "code",
      "execution_count": 19,
      "metadata": {
        "colab": {
          "base_uri": "https://localhost:8080/",
          "height": 35
        },
        "id": "i0g9MPG6BR5o",
        "outputId": "f943b245-10ea-4175-f292-12cd79d4dbaf"
      },
      "outputs": [
        {
          "output_type": "execute_result",
          "data": {
            "text/plain": [
              "'4.0.0'"
            ],
            "application/vnd.google.colaboratory.intrinsic+json": {
              "type": "string"
            }
          },
          "metadata": {},
          "execution_count": 19
        }
      ],
      "source": [
        "import optuna\n",
        "\n",
        "optuna.__version__"
      ]
    },
    {
      "cell_type": "markdown",
      "metadata": {
        "id": "51Ub5E9gBR5o"
      },
      "source": [
        "## Optimize Hyperparameters\n",
        "\n",
        "### Define a simple scikit-learn model\n",
        "\n",
        "We start with a simple random forest model to classify flowers in the Iris dataset. We define a function called `objective` that encapsulates the whole training process and outputs the accuracy of the model."
      ]
    },
    {
      "cell_type": "code",
      "execution_count": 20,
      "metadata": {
        "colab": {
          "base_uri": "https://localhost:8080/"
        },
        "id": "FGgqyQEWBR5o",
        "outputId": "73375b7f-7494-4a4a-dede-c67d0b6dd985"
      },
      "outputs": [
        {
          "output_type": "stream",
          "name": "stdout",
          "text": [
            "Accuracy: 0.96\n"
          ]
        }
      ],
      "source": [
        "import sklearn.datasets\n",
        "import sklearn.ensemble\n",
        "import sklearn.model_selection\n",
        "\n",
        "\n",
        "def objective():\n",
        "    iris = sklearn.datasets.load_iris()  # Prepare the data.\n",
        "\n",
        "    clf = sklearn.ensemble.RandomForestClassifier(n_estimators=5, max_depth=3)  # Define the model.\n",
        "\n",
        "    return sklearn.model_selection.cross_val_score(\n",
        "        clf, iris.data, iris.target, n_jobs=-1, cv=3\n",
        "    ).mean()  # Train and evaluate the model.\n",
        "\n",
        "\n",
        "print(\"Accuracy: {}\".format(objective()))"
      ]
    },
    {
      "cell_type": "markdown",
      "metadata": {
        "id": "1HQlffVMBR5p"
      },
      "source": [
        "### Optimize hyperparameters of the model\n",
        "\n",
        "The hyperparameters of the above algorithm are `n_estimators` and `max_depth` for which we can try different values to see if the model accuracy can be improved. The `objective` function is modified to accept a trial object. This trial has several methods for sampling hyperparameters. We create a study to run the hyperparameter optimization and finally read the best hyperparameters."
      ]
    },
    {
      "cell_type": "code",
      "execution_count": 21,
      "metadata": {
        "colab": {
          "base_uri": "https://localhost:8080/"
        },
        "id": "cVktiokOBR5p",
        "outputId": "97f6a8ba-9ec8-4510-b5bc-eca3b8865deb"
      },
      "outputs": [
        {
          "output_type": "stream",
          "name": "stderr",
          "text": [
            "[I 2024-10-31 19:20:17,083] A new study created in memory with name: no-name-829fd186-7f26-4361-a0c9-43362f8ad28d\n",
            "[I 2024-10-31 19:20:17,139] Trial 0 finished with value: 0.9466666666666667 and parameters: {'n_estimators': 2, 'max_depth': 4.683848580290378}. Best is trial 0 with value: 0.9466666666666667.\n",
            "[I 2024-10-31 19:20:17,293] Trial 1 finished with value: 0.9733333333333333 and parameters: {'n_estimators': 19, 'max_depth': 7.3588896708355}. Best is trial 1 with value: 0.9733333333333333.\n",
            "[I 2024-10-31 19:20:17,395] Trial 2 finished with value: 0.9466666666666667 and parameters: {'n_estimators': 10, 'max_depth': 2.2095017834472204}. Best is trial 1 with value: 0.9733333333333333.\n",
            "[I 2024-10-31 19:20:17,437] Trial 3 finished with value: 0.94 and parameters: {'n_estimators': 4, 'max_depth': 14.533238133936813}. Best is trial 1 with value: 0.9733333333333333.\n",
            "[I 2024-10-31 19:20:17,509] Trial 4 finished with value: 0.9666666666666667 and parameters: {'n_estimators': 13, 'max_depth': 6.636513924761652}. Best is trial 1 with value: 0.9733333333333333.\n",
            "[I 2024-10-31 19:20:17,601] Trial 5 finished with value: 0.96 and parameters: {'n_estimators': 18, 'max_depth': 12.154430711600105}. Best is trial 1 with value: 0.9733333333333333.\n",
            "[I 2024-10-31 19:20:17,683] Trial 6 finished with value: 0.9666666666666667 and parameters: {'n_estimators': 15, 'max_depth': 7.298500635733694}. Best is trial 1 with value: 0.9733333333333333.\n",
            "[I 2024-10-31 19:20:17,786] Trial 7 finished with value: 0.9666666666666667 and parameters: {'n_estimators': 18, 'max_depth': 7.277527774926763}. Best is trial 1 with value: 0.9733333333333333.\n",
            "[I 2024-10-31 19:20:17,848] Trial 8 finished with value: 0.9533333333333333 and parameters: {'n_estimators': 11, 'max_depth': 5.314929360550017}. Best is trial 1 with value: 0.9733333333333333.\n",
            "[I 2024-10-31 19:20:17,910] Trial 9 finished with value: 0.9533333333333333 and parameters: {'n_estimators': 10, 'max_depth': 5.759678629639609}. Best is trial 1 with value: 0.9733333333333333.\n",
            "[I 2024-10-31 19:20:18,033] Trial 10 finished with value: 0.96 and parameters: {'n_estimators': 20, 'max_depth': 29.410639525355442}. Best is trial 1 with value: 0.9733333333333333.\n",
            "[I 2024-10-31 19:20:18,138] Trial 11 finished with value: 0.9466666666666667 and parameters: {'n_estimators': 14, 'max_depth': 1.8025424826943328}. Best is trial 1 with value: 0.9733333333333333.\n",
            "[I 2024-10-31 19:20:18,245] Trial 12 finished with value: 0.9666666666666667 and parameters: {'n_estimators': 14, 'max_depth': 3.0709907881916303}. Best is trial 1 with value: 0.9733333333333333.\n",
            "[I 2024-10-31 19:20:18,305] Trial 13 finished with value: 0.96 and parameters: {'n_estimators': 6, 'max_depth': 13.07718132388062}. Best is trial 1 with value: 0.9733333333333333.\n",
            "[I 2024-10-31 19:20:18,408] Trial 14 finished with value: 0.96 and parameters: {'n_estimators': 17, 'max_depth': 22.360029862960065}. Best is trial 1 with value: 0.9733333333333333.\n",
            "[I 2024-10-31 19:20:18,483] Trial 15 finished with value: 0.9533333333333333 and parameters: {'n_estimators': 7, 'max_depth': 1.0255434855032817}. Best is trial 1 with value: 0.9733333333333333.\n",
            "[I 2024-10-31 19:20:18,608] Trial 16 finished with value: 0.9533333333333333 and parameters: {'n_estimators': 20, 'max_depth': 3.1813012911962653}. Best is trial 1 with value: 0.9733333333333333.\n",
            "[I 2024-10-31 19:20:18,699] Trial 17 finished with value: 0.96 and parameters: {'n_estimators': 15, 'max_depth': 9.229520355122904}. Best is trial 1 with value: 0.9733333333333333.\n",
            "[I 2024-10-31 19:20:18,791] Trial 18 finished with value: 0.96 and parameters: {'n_estimators': 13, 'max_depth': 3.909795861811701}. Best is trial 1 with value: 0.9733333333333333.\n",
            "[I 2024-10-31 19:20:18,872] Trial 19 finished with value: 0.9533333333333333 and parameters: {'n_estimators': 12, 'max_depth': 19.296600139681868}. Best is trial 1 with value: 0.9733333333333333.\n",
            "[I 2024-10-31 19:20:18,935] Trial 20 finished with value: 0.96 and parameters: {'n_estimators': 8, 'max_depth': 10.483631508969525}. Best is trial 1 with value: 0.9733333333333333.\n",
            "[I 2024-10-31 19:20:19,086] Trial 21 finished with value: 0.9666666666666667 and parameters: {'n_estimators': 16, 'max_depth': 7.475480940399008}. Best is trial 1 with value: 0.9733333333333333.\n",
            "[I 2024-10-31 19:20:19,259] Trial 22 finished with value: 0.9666666666666667 and parameters: {'n_estimators': 16, 'max_depth': 7.0938961951693695}. Best is trial 1 with value: 0.9733333333333333.\n",
            "[I 2024-10-31 19:20:19,405] Trial 23 finished with value: 0.9533333333333333 and parameters: {'n_estimators': 18, 'max_depth': 8.203181514338654}. Best is trial 1 with value: 0.9733333333333333.\n",
            "[I 2024-10-31 19:20:19,507] Trial 24 finished with value: 0.96 and parameters: {'n_estimators': 13, 'max_depth': 4.411925727297885}. Best is trial 1 with value: 0.9733333333333333.\n",
            "[I 2024-10-31 19:20:19,611] Trial 25 finished with value: 0.9533333333333333 and parameters: {'n_estimators': 20, 'max_depth': 6.104899265584473}. Best is trial 1 with value: 0.9733333333333333.\n",
            "[I 2024-10-31 19:20:19,746] Trial 26 finished with value: 0.96 and parameters: {'n_estimators': 16, 'max_depth': 16.23884106273447}. Best is trial 1 with value: 0.9733333333333333.\n",
            "[I 2024-10-31 19:20:19,898] Trial 27 finished with value: 0.96 and parameters: {'n_estimators': 14, 'max_depth': 10.641182640583953}. Best is trial 1 with value: 0.9733333333333333.\n",
            "[I 2024-10-31 19:20:20,035] Trial 28 finished with value: 0.9533333333333333 and parameters: {'n_estimators': 9, 'max_depth': 2.7245632436103606}. Best is trial 1 with value: 0.9733333333333333.\n",
            "[I 2024-10-31 19:20:20,170] Trial 29 finished with value: 0.9466666666666667 and parameters: {'n_estimators': 18, 'max_depth': 4.879929327024373}. Best is trial 1 with value: 0.9733333333333333.\n",
            "[I 2024-10-31 19:20:20,230] Trial 30 finished with value: 0.9466666666666667 and parameters: {'n_estimators': 3, 'max_depth': 4.16867979957597}. Best is trial 1 with value: 0.9733333333333333.\n",
            "[I 2024-10-31 19:20:20,332] Trial 31 finished with value: 0.9533333333333333 and parameters: {'n_estimators': 19, 'max_depth': 6.919698774880387}. Best is trial 1 with value: 0.9733333333333333.\n",
            "[I 2024-10-31 19:20:20,426] Trial 32 finished with value: 0.9733333333333333 and parameters: {'n_estimators': 17, 'max_depth': 9.056852933976515}. Best is trial 1 with value: 0.9733333333333333.\n",
            "[I 2024-10-31 19:20:20,549] Trial 33 finished with value: 0.96 and parameters: {'n_estimators': 15, 'max_depth': 8.894171004384138}. Best is trial 1 with value: 0.9733333333333333.\n",
            "[I 2024-10-31 19:20:20,735] Trial 34 finished with value: 0.9666666666666667 and parameters: {'n_estimators': 17, 'max_depth': 11.348403418545375}. Best is trial 1 with value: 0.9733333333333333.\n",
            "[I 2024-10-31 19:20:20,841] Trial 35 finished with value: 0.9666666666666667 and parameters: {'n_estimators': 12, 'max_depth': 16.444818630948046}. Best is trial 1 with value: 0.9733333333333333.\n",
            "[I 2024-10-31 19:20:21,115] Trial 36 finished with value: 0.9666666666666667 and parameters: {'n_estimators': 17, 'max_depth': 6.412843753825421}. Best is trial 1 with value: 0.9733333333333333.\n",
            "[I 2024-10-31 19:20:21,312] Trial 37 finished with value: 0.9466666666666667 and parameters: {'n_estimators': 19, 'max_depth': 9.179270310190425}. Best is trial 1 with value: 0.9733333333333333.\n",
            "[I 2024-10-31 19:20:21,465] Trial 38 finished with value: 0.96 and parameters: {'n_estimators': 15, 'max_depth': 5.402989739729364}. Best is trial 1 with value: 0.9733333333333333.\n",
            "[I 2024-10-31 19:20:21,636] Trial 39 finished with value: 0.9533333333333333 and parameters: {'n_estimators': 10, 'max_depth': 12.143160092094298}. Best is trial 1 with value: 0.9733333333333333.\n",
            "[I 2024-10-31 19:20:21,855] Trial 40 finished with value: 0.96 and parameters: {'n_estimators': 19, 'max_depth': 3.7130900139072156}. Best is trial 1 with value: 0.9733333333333333.\n",
            "[I 2024-10-31 19:20:22,141] Trial 41 finished with value: 0.96 and parameters: {'n_estimators': 18, 'max_depth': 5.355979762463462}. Best is trial 1 with value: 0.9733333333333333.\n",
            "[I 2024-10-31 19:20:22,332] Trial 42 finished with value: 0.9666666666666667 and parameters: {'n_estimators': 17, 'max_depth': 7.862532488009379}. Best is trial 1 with value: 0.9733333333333333.\n",
            "[I 2024-10-31 19:20:22,450] Trial 43 finished with value: 0.9533333333333333 and parameters: {'n_estimators': 13, 'max_depth': 13.873932756342438}. Best is trial 1 with value: 0.9733333333333333.\n",
            "[I 2024-10-31 19:20:22,631] Trial 44 finished with value: 0.96 and parameters: {'n_estimators': 19, 'max_depth': 6.1084787071158395}. Best is trial 1 with value: 0.9733333333333333.\n",
            "[I 2024-10-31 19:20:22,808] Trial 45 finished with value: 0.9533333333333333 and parameters: {'n_estimators': 11, 'max_depth': 8.923754201980792}. Best is trial 1 with value: 0.9733333333333333.\n",
            "[I 2024-10-31 19:20:22,957] Trial 46 finished with value: 0.9533333333333333 and parameters: {'n_estimators': 16, 'max_depth': 10.280730013900525}. Best is trial 1 with value: 0.9733333333333333.\n",
            "[I 2024-10-31 19:20:23,125] Trial 47 finished with value: 0.96 and parameters: {'n_estimators': 14, 'max_depth': 1.6478158067299404}. Best is trial 1 with value: 0.9733333333333333.\n",
            "[I 2024-10-31 19:20:23,309] Trial 48 finished with value: 0.9666666666666667 and parameters: {'n_estimators': 15, 'max_depth': 28.22255602778071}. Best is trial 1 with value: 0.9733333333333333.\n",
            "[I 2024-10-31 19:20:23,545] Trial 49 finished with value: 0.9533333333333333 and parameters: {'n_estimators': 20, 'max_depth': 4.891919123406755}. Best is trial 1 with value: 0.9733333333333333.\n",
            "[I 2024-10-31 19:20:23,840] Trial 50 finished with value: 0.96 and parameters: {'n_estimators': 18, 'max_depth': 3.4705161870495718}. Best is trial 1 with value: 0.9733333333333333.\n",
            "[I 2024-10-31 19:20:23,968] Trial 51 finished with value: 0.9533333333333333 and parameters: {'n_estimators': 12, 'max_depth': 2.9042504287010797}. Best is trial 1 with value: 0.9733333333333333.\n",
            "[I 2024-10-31 19:20:24,113] Trial 52 finished with value: 0.94 and parameters: {'n_estimators': 14, 'max_depth': 1.531558845478452}. Best is trial 1 with value: 0.9733333333333333.\n",
            "[I 2024-10-31 19:20:24,322] Trial 53 finished with value: 0.9466666666666667 and parameters: {'n_estimators': 16, 'max_depth': 2.28631961007857}. Best is trial 1 with value: 0.9733333333333333.\n",
            "[I 2024-10-31 19:20:24,448] Trial 54 finished with value: 0.9266666666666666 and parameters: {'n_estimators': 11, 'max_depth': 6.937924396695151}. Best is trial 1 with value: 0.9733333333333333.\n",
            "[I 2024-10-31 19:20:24,618] Trial 55 finished with value: 0.9466666666666667 and parameters: {'n_estimators': 14, 'max_depth': 8.120730591559198}. Best is trial 1 with value: 0.9733333333333333.\n",
            "[I 2024-10-31 19:20:24,774] Trial 56 finished with value: 0.9466666666666667 and parameters: {'n_estimators': 5, 'max_depth': 5.824198232611677}. Best is trial 1 with value: 0.9733333333333333.\n",
            "[I 2024-10-31 19:20:24,975] Trial 57 finished with value: 0.96 and parameters: {'n_estimators': 15, 'max_depth': 4.5341228384563665}. Best is trial 1 with value: 0.9733333333333333.\n",
            "[I 2024-10-31 19:20:25,198] Trial 58 finished with value: 0.9533333333333333 and parameters: {'n_estimators': 17, 'max_depth': 9.958488200560643}. Best is trial 1 with value: 0.9733333333333333.\n",
            "[I 2024-10-31 19:20:25,383] Trial 59 finished with value: 0.96 and parameters: {'n_estimators': 13, 'max_depth': 7.368195780716277}. Best is trial 1 with value: 0.9733333333333333.\n",
            "[I 2024-10-31 19:20:25,570] Trial 60 finished with value: 0.8533333333333334 and parameters: {'n_estimators': 16, 'max_depth': 1.1022959997077908}. Best is trial 1 with value: 0.9733333333333333.\n",
            "[I 2024-10-31 19:20:25,744] Trial 61 finished with value: 0.9533333333333333 and parameters: {'n_estimators': 18, 'max_depth': 6.501431439616928}. Best is trial 1 with value: 0.9733333333333333.\n",
            "[I 2024-10-31 19:20:25,898] Trial 62 finished with value: 0.9466666666666667 and parameters: {'n_estimators': 16, 'max_depth': 8.104684731132874}. Best is trial 1 with value: 0.9733333333333333.\n",
            "[I 2024-10-31 19:20:26,074] Trial 63 finished with value: 0.9666666666666667 and parameters: {'n_estimators': 17, 'max_depth': 7.385996019125828}. Best is trial 1 with value: 0.9733333333333333.\n",
            "[I 2024-10-31 19:20:26,298] Trial 64 finished with value: 0.9666666666666667 and parameters: {'n_estimators': 15, 'max_depth': 12.323355828363422}. Best is trial 1 with value: 0.9733333333333333.\n",
            "[I 2024-10-31 19:20:26,588] Trial 65 finished with value: 0.96 and parameters: {'n_estimators': 13, 'max_depth': 5.269390538017439}. Best is trial 1 with value: 0.9733333333333333.\n",
            "[I 2024-10-31 19:20:26,905] Trial 66 finished with value: 0.9666666666666667 and parameters: {'n_estimators': 18, 'max_depth': 9.792125945515018}. Best is trial 1 with value: 0.9733333333333333.\n",
            "[I 2024-10-31 19:20:27,136] Trial 67 finished with value: 0.9666666666666667 and parameters: {'n_estimators': 19, 'max_depth': 11.408172597913907}. Best is trial 1 with value: 0.9733333333333333.\n",
            "[I 2024-10-31 19:20:27,387] Trial 68 finished with value: 0.96 and parameters: {'n_estimators': 14, 'max_depth': 15.019458352858212}. Best is trial 1 with value: 0.9733333333333333.\n",
            "[I 2024-10-31 19:20:27,831] Trial 69 finished with value: 0.9533333333333333 and parameters: {'n_estimators': 20, 'max_depth': 4.136787759864465}. Best is trial 1 with value: 0.9733333333333333.\n",
            "[I 2024-10-31 19:20:28,177] Trial 70 finished with value: 0.96 and parameters: {'n_estimators': 17, 'max_depth': 6.501387267983704}. Best is trial 1 with value: 0.9733333333333333.\n",
            "[I 2024-10-31 19:20:28,452] Trial 71 finished with value: 0.96 and parameters: {'n_estimators': 16, 'max_depth': 7.180885281940708}. Best is trial 1 with value: 0.9733333333333333.\n",
            "[I 2024-10-31 19:20:28,807] Trial 72 finished with value: 0.9333333333333332 and parameters: {'n_estimators': 15, 'max_depth': 8.356422293818502}. Best is trial 1 with value: 0.9733333333333333.\n",
            "[I 2024-10-31 19:20:29,133] Trial 73 finished with value: 0.96 and parameters: {'n_estimators': 16, 'max_depth': 5.696773477147273}. Best is trial 1 with value: 0.9733333333333333.\n",
            "[I 2024-10-31 19:20:29,399] Trial 74 finished with value: 0.96 and parameters: {'n_estimators': 12, 'max_depth': 4.885801802218935}. Best is trial 1 with value: 0.9733333333333333.\n",
            "[I 2024-10-31 19:20:29,686] Trial 75 finished with value: 0.9533333333333333 and parameters: {'n_estimators': 17, 'max_depth': 7.386676537418724}. Best is trial 1 with value: 0.9733333333333333.\n",
            "[I 2024-10-31 19:20:29,767] Trial 76 finished with value: 0.94 and parameters: {'n_estimators': 2, 'max_depth': 8.612549437576138}. Best is trial 1 with value: 0.9733333333333333.\n",
            "[I 2024-10-31 19:20:30,154] Trial 77 finished with value: 0.96 and parameters: {'n_estimators': 19, 'max_depth': 6.518814937180544}. Best is trial 1 with value: 0.9733333333333333.\n",
            "[I 2024-10-31 19:20:30,418] Trial 78 finished with value: 0.96 and parameters: {'n_estimators': 14, 'max_depth': 9.24229819236044}. Best is trial 1 with value: 0.9733333333333333.\n",
            "[I 2024-10-31 19:20:30,778] Trial 79 finished with value: 0.9533333333333333 and parameters: {'n_estimators': 18, 'max_depth': 11.225070436248373}. Best is trial 1 with value: 0.9733333333333333.\n",
            "[I 2024-10-31 19:20:31,138] Trial 80 finished with value: 0.96 and parameters: {'n_estimators': 15, 'max_depth': 7.785584696101739}. Best is trial 1 with value: 0.9733333333333333.\n",
            "[I 2024-10-31 19:20:31,462] Trial 81 finished with value: 0.9533333333333333 and parameters: {'n_estimators': 17, 'max_depth': 13.19789332200898}. Best is trial 1 with value: 0.9733333333333333.\n",
            "[I 2024-10-31 19:20:31,770] Trial 82 finished with value: 0.96 and parameters: {'n_estimators': 16, 'max_depth': 9.553808063606997}. Best is trial 1 with value: 0.9733333333333333.\n",
            "[I 2024-10-31 19:20:32,195] Trial 83 finished with value: 0.9666666666666667 and parameters: {'n_estimators': 18, 'max_depth': 10.592802513282436}. Best is trial 1 with value: 0.9733333333333333.\n",
            "[I 2024-10-31 19:20:32,603] Trial 84 finished with value: 0.96 and parameters: {'n_estimators': 17, 'max_depth': 17.75750056504549}. Best is trial 1 with value: 0.9733333333333333.\n",
            "[I 2024-10-31 19:20:32,956] Trial 85 finished with value: 0.9533333333333333 and parameters: {'n_estimators': 16, 'max_depth': 5.9073107698876735}. Best is trial 1 with value: 0.9733333333333333.\n",
            "[I 2024-10-31 19:20:33,245] Trial 86 finished with value: 0.9666666666666667 and parameters: {'n_estimators': 15, 'max_depth': 6.824731281136065}. Best is trial 1 with value: 0.9733333333333333.\n",
            "[I 2024-10-31 19:20:33,435] Trial 87 finished with value: 0.9666666666666667 and parameters: {'n_estimators': 19, 'max_depth': 2.312735257799579}. Best is trial 1 with value: 0.9733333333333333.\n",
            "[I 2024-10-31 19:20:33,597] Trial 88 finished with value: 0.96 and parameters: {'n_estimators': 13, 'max_depth': 11.454592508418665}. Best is trial 1 with value: 0.9733333333333333.\n",
            "[I 2024-10-31 19:20:33,809] Trial 89 finished with value: 0.96 and parameters: {'n_estimators': 14, 'max_depth': 9.067569215347616}. Best is trial 1 with value: 0.9733333333333333.\n",
            "[I 2024-10-31 19:20:34,041] Trial 90 finished with value: 0.96 and parameters: {'n_estimators': 17, 'max_depth': 7.789348563321333}. Best is trial 1 with value: 0.9733333333333333.\n",
            "[I 2024-10-31 19:20:34,374] Trial 91 finished with value: 0.96 and parameters: {'n_estimators': 12, 'max_depth': 5.23653218844502}. Best is trial 1 with value: 0.9733333333333333.\n",
            "[I 2024-10-31 19:20:34,548] Trial 92 finished with value: 0.9466666666666667 and parameters: {'n_estimators': 10, 'max_depth': 21.76929290050427}. Best is trial 1 with value: 0.9733333333333333.\n",
            "[I 2024-10-31 19:20:34,676] Trial 93 finished with value: 0.9666666666666667 and parameters: {'n_estimators': 11, 'max_depth': 14.664916028628722}. Best is trial 1 with value: 0.9733333333333333.\n",
            "[I 2024-10-31 19:20:34,857] Trial 94 finished with value: 0.96 and parameters: {'n_estimators': 13, 'max_depth': 6.157187345633349}. Best is trial 1 with value: 0.9733333333333333.\n",
            "[I 2024-10-31 19:20:34,998] Trial 95 finished with value: 0.9666666666666667 and parameters: {'n_estimators': 12, 'max_depth': 16.383152344698797}. Best is trial 1 with value: 0.9733333333333333.\n",
            "[I 2024-10-31 19:20:35,138] Trial 96 finished with value: 0.9666666666666667 and parameters: {'n_estimators': 15, 'max_depth': 8.598754233047039}. Best is trial 1 with value: 0.9733333333333333.\n",
            "[I 2024-10-31 19:20:35,290] Trial 97 finished with value: 0.9533333333333333 and parameters: {'n_estimators': 9, 'max_depth': 25.819989313282456}. Best is trial 1 with value: 0.9733333333333333.\n",
            "[I 2024-10-31 19:20:35,560] Trial 98 finished with value: 0.96 and parameters: {'n_estimators': 18, 'max_depth': 19.256679287625175}. Best is trial 1 with value: 0.9733333333333333.\n",
            "[I 2024-10-31 19:20:35,750] Trial 99 finished with value: 0.9666666666666667 and parameters: {'n_estimators': 14, 'max_depth': 6.899376810584888}. Best is trial 1 with value: 0.9733333333333333.\n"
          ]
        },
        {
          "output_type": "stream",
          "name": "stdout",
          "text": [
            "Accuracy: 0.9733333333333333\n",
            "Best hyperparameters: {'n_estimators': 19, 'max_depth': 7.3588896708355}\n"
          ]
        }
      ],
      "source": [
        "import optuna\n",
        "\n",
        "\n",
        "def objective(trial):\n",
        "    iris = sklearn.datasets.load_iris()\n",
        "\n",
        "    n_estimators = trial.suggest_int(\"n_estimators\", 2, 20)\n",
        "    max_depth = int(trial.suggest_float(\"max_depth\", 1, 32, log=True))\n",
        "\n",
        "    clf = sklearn.ensemble.RandomForestClassifier(n_estimators=n_estimators, max_depth=max_depth)\n",
        "\n",
        "    return sklearn.model_selection.cross_val_score(\n",
        "        clf, iris.data, iris.target, n_jobs=-1, cv=3\n",
        "    ).mean()\n",
        "\n",
        "\n",
        "study = optuna.create_study(direction=\"maximize\")\n",
        "study.optimize(objective, n_trials=100)\n",
        "\n",
        "trial = study.best_trial\n",
        "\n",
        "print(\"Accuracy: {}\".format(trial.value))\n",
        "print(\"Best hyperparameters: {}\".format(trial.params))"
      ]
    },
    {
      "cell_type": "markdown",
      "metadata": {
        "id": "VaoR2t-PBR5q"
      },
      "source": [
        "It is possible to condition hyperparameters using Python `if` statements. We can for instance include another classifier, a support vector machine, in our HPO and define hyperparameters specific to the random forest model and the support vector machine."
      ]
    },
    {
      "cell_type": "code",
      "execution_count": 22,
      "metadata": {
        "colab": {
          "base_uri": "https://localhost:8080/"
        },
        "id": "7HJV2afcBR5q",
        "outputId": "591ab1fc-3ccf-4d6a-cd7e-38d995eeb18f"
      },
      "outputs": [
        {
          "output_type": "stream",
          "name": "stderr",
          "text": [
            "[I 2024-10-31 19:20:35,773] A new study created in memory with name: no-name-39e43a03-9ecc-405f-a1b5-d78d8c6ba1e9\n",
            "[I 2024-10-31 19:20:35,821] Trial 0 finished with value: 0.32 and parameters: {'classifier': 'SVC', 'svc_c': 0.00031242958577736}. Best is trial 0 with value: 0.32.\n",
            "[I 2024-10-31 19:20:35,953] Trial 1 finished with value: 0.9266666666666666 and parameters: {'classifier': 'RandomForest', 'n_estimators': 13, 'max_depth': 1.7077557240357757}. Best is trial 1 with value: 0.9266666666666666.\n",
            "[I 2024-10-31 19:20:36,041] Trial 2 finished with value: 0.94 and parameters: {'classifier': 'RandomForest', 'n_estimators': 2, 'max_depth': 6.081074004510159}. Best is trial 2 with value: 0.94.\n",
            "[I 2024-10-31 19:20:36,100] Trial 3 finished with value: 0.9466666666666667 and parameters: {'classifier': 'SVC', 'svc_c': 460.27580601779846}. Best is trial 3 with value: 0.9466666666666667.\n",
            "[I 2024-10-31 19:20:36,313] Trial 4 finished with value: 0.96 and parameters: {'classifier': 'RandomForest', 'n_estimators': 20, 'max_depth': 3.5021683372127503}. Best is trial 4 with value: 0.96.\n",
            "[I 2024-10-31 19:20:36,432] Trial 5 finished with value: 0.9666666666666667 and parameters: {'classifier': 'RandomForest', 'n_estimators': 13, 'max_depth': 6.581740642467166}. Best is trial 5 with value: 0.9666666666666667.\n",
            "[I 2024-10-31 19:20:36,551] Trial 6 finished with value: 0.9533333333333333 and parameters: {'classifier': 'RandomForest', 'n_estimators': 12, 'max_depth': 5.669283067982343}. Best is trial 5 with value: 0.9666666666666667.\n",
            "[I 2024-10-31 19:20:36,594] Trial 7 finished with value: 0.32 and parameters: {'classifier': 'SVC', 'svc_c': 1.237934051629655e-06}. Best is trial 5 with value: 0.9666666666666667.\n",
            "[I 2024-10-31 19:20:36,629] Trial 8 finished with value: 0.96 and parameters: {'classifier': 'SVC', 'svc_c': 1243637804.2884455}. Best is trial 5 with value: 0.9666666666666667.\n",
            "[I 2024-10-31 19:20:36,716] Trial 9 finished with value: 0.7000000000000001 and parameters: {'classifier': 'RandomForest', 'n_estimators': 7, 'max_depth': 1.620604077294059}. Best is trial 5 with value: 0.9666666666666667.\n",
            "[I 2024-10-31 19:20:36,886] Trial 10 finished with value: 0.9666666666666667 and parameters: {'classifier': 'RandomForest', 'n_estimators': 18, 'max_depth': 20.717206151564167}. Best is trial 5 with value: 0.9666666666666667.\n",
            "[I 2024-10-31 19:20:37,012] Trial 11 finished with value: 0.9533333333333333 and parameters: {'classifier': 'RandomForest', 'n_estimators': 19, 'max_depth': 30.022116534904175}. Best is trial 5 with value: 0.9666666666666667.\n",
            "[I 2024-10-31 19:20:37,159] Trial 12 finished with value: 0.9533333333333333 and parameters: {'classifier': 'RandomForest', 'n_estimators': 15, 'max_depth': 20.06610948288619}. Best is trial 5 with value: 0.9666666666666667.\n",
            "[I 2024-10-31 19:20:37,306] Trial 13 finished with value: 0.9666666666666667 and parameters: {'classifier': 'RandomForest', 'n_estimators': 16, 'max_depth': 10.886002785319123}. Best is trial 5 with value: 0.9666666666666667.\n",
            "[I 2024-10-31 19:20:37,450] Trial 14 finished with value: 0.9733333333333333 and parameters: {'classifier': 'RandomForest', 'n_estimators': 9, 'max_depth': 13.694960234176065}. Best is trial 14 with value: 0.9733333333333333.\n",
            "[I 2024-10-31 19:20:37,525] Trial 15 finished with value: 0.9533333333333333 and parameters: {'classifier': 'RandomForest', 'n_estimators': 8, 'max_depth': 10.764103137508556}. Best is trial 14 with value: 0.9733333333333333.\n",
            "[I 2024-10-31 19:20:37,588] Trial 16 finished with value: 0.96 and parameters: {'classifier': 'RandomForest', 'n_estimators': 9, 'max_depth': 10.252096170654028}. Best is trial 14 with value: 0.9733333333333333.\n",
            "[I 2024-10-31 19:20:37,631] Trial 17 finished with value: 0.9 and parameters: {'classifier': 'RandomForest', 'n_estimators': 3, 'max_depth': 2.964341758623043}. Best is trial 14 with value: 0.9733333333333333.\n",
            "[I 2024-10-31 19:20:37,657] Trial 18 finished with value: 0.32 and parameters: {'classifier': 'SVC', 'svc_c': 1.6276032346956413e-09}. Best is trial 14 with value: 0.9733333333333333.\n",
            "[I 2024-10-31 19:20:37,721] Trial 19 finished with value: 0.9466666666666667 and parameters: {'classifier': 'RandomForest', 'n_estimators': 6, 'max_depth': 8.185589654396503}. Best is trial 14 with value: 0.9733333333333333.\n",
            "[I 2024-10-31 19:20:37,904] Trial 20 finished with value: 0.9533333333333333 and parameters: {'classifier': 'RandomForest', 'n_estimators': 10, 'max_depth': 3.608971429558969}. Best is trial 14 with value: 0.9733333333333333.\n",
            "[I 2024-10-31 19:20:38,072] Trial 21 finished with value: 0.96 and parameters: {'classifier': 'RandomForest', 'n_estimators': 17, 'max_depth': 18.039409837155095}. Best is trial 14 with value: 0.9733333333333333.\n",
            "[I 2024-10-31 19:20:38,223] Trial 22 finished with value: 0.9466666666666667 and parameters: {'classifier': 'RandomForest', 'n_estimators': 14, 'max_depth': 18.163012128402578}. Best is trial 14 with value: 0.9733333333333333.\n",
            "[I 2024-10-31 19:20:38,394] Trial 23 finished with value: 0.9666666666666667 and parameters: {'classifier': 'RandomForest', 'n_estimators': 11, 'max_depth': 30.420625448061692}. Best is trial 14 with value: 0.9733333333333333.\n",
            "[I 2024-10-31 19:20:38,602] Trial 24 finished with value: 0.96 and parameters: {'classifier': 'RandomForest', 'n_estimators': 18, 'max_depth': 15.39461449758445}. Best is trial 14 with value: 0.9733333333333333.\n",
            "[I 2024-10-31 19:20:38,721] Trial 25 finished with value: 0.9666666666666667 and parameters: {'classifier': 'RandomForest', 'n_estimators': 6, 'max_depth': 8.048208189342757}. Best is trial 14 with value: 0.9733333333333333.\n",
            "[I 2024-10-31 19:20:38,761] Trial 26 finished with value: 0.96 and parameters: {'classifier': 'SVC', 'svc_c': 984.4499373669016}. Best is trial 14 with value: 0.9733333333333333.\n",
            "[I 2024-10-31 19:20:38,925] Trial 27 finished with value: 0.8733333333333334 and parameters: {'classifier': 'RandomForest', 'n_estimators': 12, 'max_depth': 1.0001577750333317}. Best is trial 14 with value: 0.9733333333333333.\n",
            "[I 2024-10-31 19:20:39,089] Trial 28 finished with value: 0.9666666666666667 and parameters: {'classifier': 'RandomForest', 'n_estimators': 15, 'max_depth': 24.920392662265446}. Best is trial 14 with value: 0.9733333333333333.\n",
            "[I 2024-10-31 19:20:39,127] Trial 29 finished with value: 0.96 and parameters: {'classifier': 'SVC', 'svc_c': 2163386857.781533}. Best is trial 14 with value: 0.9733333333333333.\n",
            "[I 2024-10-31 19:20:39,260] Trial 30 finished with value: 0.96 and parameters: {'classifier': 'RandomForest', 'n_estimators': 10, 'max_depth': 14.938149740159975}. Best is trial 14 with value: 0.9733333333333333.\n",
            "[I 2024-10-31 19:20:39,482] Trial 31 finished with value: 0.9733333333333333 and parameters: {'classifier': 'RandomForest', 'n_estimators': 17, 'max_depth': 12.50720158899612}. Best is trial 14 with value: 0.9733333333333333.\n",
            "[I 2024-10-31 19:20:39,671] Trial 32 finished with value: 0.9666666666666667 and parameters: {'classifier': 'RandomForest', 'n_estimators': 17, 'max_depth': 13.154390171806035}. Best is trial 14 with value: 0.9733333333333333.\n",
            "[I 2024-10-31 19:20:39,947] Trial 33 finished with value: 0.9533333333333333 and parameters: {'classifier': 'RandomForest', 'n_estimators': 20, 'max_depth': 22.667161404041142}. Best is trial 14 with value: 0.9733333333333333.\n",
            "[I 2024-10-31 19:20:40,150] Trial 34 finished with value: 0.9666666666666667 and parameters: {'classifier': 'RandomForest', 'n_estimators': 18, 'max_depth': 7.618572558485809}. Best is trial 14 with value: 0.9733333333333333.\n",
            "[I 2024-10-31 19:20:40,391] Trial 35 finished with value: 0.9733333333333333 and parameters: {'classifier': 'RandomForest', 'n_estimators': 14, 'max_depth': 12.984844973700298}. Best is trial 14 with value: 0.9733333333333333.\n",
            "[I 2024-10-31 19:20:40,566] Trial 36 finished with value: 0.9533333333333333 and parameters: {'classifier': 'RandomForest', 'n_estimators': 14, 'max_depth': 11.894429854356913}. Best is trial 14 with value: 0.9733333333333333.\n",
            "[I 2024-10-31 19:20:40,615] Trial 37 finished with value: 0.9266666666666666 and parameters: {'classifier': 'SVC', 'svc_c': 0.06201444701694178}. Best is trial 14 with value: 0.9733333333333333.\n",
            "[I 2024-10-31 19:20:40,793] Trial 38 finished with value: 0.9533333333333333 and parameters: {'classifier': 'RandomForest', 'n_estimators': 13, 'max_depth': 4.434832671516775}. Best is trial 14 with value: 0.9733333333333333.\n",
            "[I 2024-10-31 19:20:40,997] Trial 39 finished with value: 0.96 and parameters: {'classifier': 'RandomForest', 'n_estimators': 13, 'max_depth': 8.859947616067826}. Best is trial 14 with value: 0.9733333333333333.\n",
            "[I 2024-10-31 19:20:41,049] Trial 40 finished with value: 0.32 and parameters: {'classifier': 'SVC', 'svc_c': 1.1669669961503557e-10}. Best is trial 14 with value: 0.9733333333333333.\n",
            "[I 2024-10-31 19:20:41,239] Trial 41 finished with value: 0.96 and parameters: {'classifier': 'RandomForest', 'n_estimators': 15, 'max_depth': 14.53043164011562}. Best is trial 14 with value: 0.9733333333333333.\n",
            "[I 2024-10-31 19:20:41,378] Trial 42 finished with value: 0.9466666666666667 and parameters: {'classifier': 'RandomForest', 'n_estimators': 17, 'max_depth': 6.569945224098754}. Best is trial 14 with value: 0.9733333333333333.\n",
            "[I 2024-10-31 19:20:41,476] Trial 43 finished with value: 0.9533333333333333 and parameters: {'classifier': 'RandomForest', 'n_estimators': 11, 'max_depth': 17.657235073296736}. Best is trial 14 with value: 0.9733333333333333.\n",
            "[I 2024-10-31 19:20:41,695] Trial 44 finished with value: 0.96 and parameters: {'classifier': 'RandomForest', 'n_estimators': 16, 'max_depth': 24.27805790112502}. Best is trial 14 with value: 0.9733333333333333.\n",
            "[I 2024-10-31 19:20:41,842] Trial 45 finished with value: 0.96 and parameters: {'classifier': 'RandomForest', 'n_estimators': 19, 'max_depth': 4.967199553059096}. Best is trial 14 with value: 0.9733333333333333.\n",
            "[I 2024-10-31 19:20:42,060] Trial 46 finished with value: 0.9533333333333333 and parameters: {'classifier': 'RandomForest', 'n_estimators': 12, 'max_depth': 13.704894865909454}. Best is trial 14 with value: 0.9733333333333333.\n",
            "[I 2024-10-31 19:20:42,192] Trial 47 finished with value: 0.9666666666666667 and parameters: {'classifier': 'RandomForest', 'n_estimators': 14, 'max_depth': 9.828812531047546}. Best is trial 14 with value: 0.9733333333333333.\n",
            "[I 2024-10-31 19:20:42,446] Trial 48 finished with value: 0.96 and parameters: {'classifier': 'RandomForest', 'n_estimators': 19, 'max_depth': 21.685788378010486}. Best is trial 14 with value: 0.9733333333333333.\n",
            "[I 2024-10-31 19:20:42,612] Trial 49 finished with value: 0.96 and parameters: {'classifier': 'RandomForest', 'n_estimators': 16, 'max_depth': 6.9216511444496875}. Best is trial 14 with value: 0.9733333333333333.\n",
            "[I 2024-10-31 19:20:42,648] Trial 50 finished with value: 0.96 and parameters: {'classifier': 'SVC', 'svc_c': 151367.3367602006}. Best is trial 14 with value: 0.9733333333333333.\n",
            "[I 2024-10-31 19:20:42,785] Trial 51 finished with value: 0.9533333333333333 and parameters: {'classifier': 'RandomForest', 'n_estimators': 16, 'max_depth': 11.494474721629478}. Best is trial 14 with value: 0.9733333333333333.\n",
            "[I 2024-10-31 19:20:42,981] Trial 52 finished with value: 0.9533333333333333 and parameters: {'classifier': 'RandomForest', 'n_estimators': 18, 'max_depth': 9.918685451701561}. Best is trial 14 with value: 0.9733333333333333.\n",
            "[I 2024-10-31 19:20:43,202] Trial 53 finished with value: 0.9533333333333333 and parameters: {'classifier': 'RandomForest', 'n_estimators': 15, 'max_depth': 11.849751717103524}. Best is trial 14 with value: 0.9733333333333333.\n",
            "[I 2024-10-31 19:20:43,386] Trial 54 finished with value: 0.96 and parameters: {'classifier': 'RandomForest', 'n_estimators': 8, 'max_depth': 5.640578946650227}. Best is trial 14 with value: 0.9733333333333333.\n",
            "[I 2024-10-31 19:20:43,673] Trial 55 finished with value: 0.9666666666666667 and parameters: {'classifier': 'RandomForest', 'n_estimators': 16, 'max_depth': 9.233181616808286}. Best is trial 14 with value: 0.9733333333333333.\n",
            "[I 2024-10-31 19:20:43,912] Trial 56 finished with value: 0.9666666666666667 and parameters: {'classifier': 'RandomForest', 'n_estimators': 14, 'max_depth': 16.560642951285296}. Best is trial 14 with value: 0.9733333333333333.\n",
            "[I 2024-10-31 19:20:44,286] Trial 57 finished with value: 0.96 and parameters: {'classifier': 'RandomForest', 'n_estimators': 17, 'max_depth': 19.823667527487626}. Best is trial 14 with value: 0.9733333333333333.\n",
            "[I 2024-10-31 19:20:44,542] Trial 58 finished with value: 0.96 and parameters: {'classifier': 'RandomForest', 'n_estimators': 12, 'max_depth': 2.6978772477413693}. Best is trial 14 with value: 0.9733333333333333.\n",
            "[I 2024-10-31 19:20:44,760] Trial 59 finished with value: 0.9533333333333333 and parameters: {'classifier': 'RandomForest', 'n_estimators': 9, 'max_depth': 26.967156348894427}. Best is trial 14 with value: 0.9733333333333333.\n",
            "[I 2024-10-31 19:20:44,889] Trial 60 finished with value: 0.9666666666666667 and parameters: {'classifier': 'RandomForest', 'n_estimators': 4, 'max_depth': 12.854575306953079}. Best is trial 14 with value: 0.9733333333333333.\n",
            "[I 2024-10-31 19:20:45,211] Trial 61 finished with value: 0.9666666666666667 and parameters: {'classifier': 'RandomForest', 'n_estimators': 11, 'max_depth': 28.55155936351996}. Best is trial 14 with value: 0.9733333333333333.\n",
            "[I 2024-10-31 19:20:45,450] Trial 62 finished with value: 0.9533333333333333 and parameters: {'classifier': 'RandomForest', 'n_estimators': 10, 'max_depth': 29.543965283839615}. Best is trial 14 with value: 0.9733333333333333.\n",
            "[I 2024-10-31 19:20:45,802] Trial 63 finished with value: 0.96 and parameters: {'classifier': 'RandomForest', 'n_estimators': 13, 'max_depth': 19.602863416347628}. Best is trial 14 with value: 0.9733333333333333.\n",
            "[I 2024-10-31 19:20:46,059] Trial 64 finished with value: 0.9533333333333333 and parameters: {'classifier': 'RandomForest', 'n_estimators': 11, 'max_depth': 31.460886607346566}. Best is trial 14 with value: 0.9733333333333333.\n",
            "[I 2024-10-31 19:20:46,150] Trial 65 finished with value: 0.32 and parameters: {'classifier': 'SVC', 'svc_c': 1.4127414861400794e-05}. Best is trial 14 with value: 0.9733333333333333.\n",
            "[I 2024-10-31 19:20:46,368] Trial 66 finished with value: 0.9533333333333333 and parameters: {'classifier': 'RandomForest', 'n_estimators': 7, 'max_depth': 15.6478337210737}. Best is trial 14 with value: 0.9733333333333333.\n",
            "[I 2024-10-31 19:20:46,661] Trial 67 finished with value: 0.9666666666666667 and parameters: {'classifier': 'RandomForest', 'n_estimators': 9, 'max_depth': 21.05791112736846}. Best is trial 14 with value: 0.9733333333333333.\n",
            "[I 2024-10-31 19:20:47,172] Trial 68 finished with value: 0.9666666666666667 and parameters: {'classifier': 'RandomForest', 'n_estimators': 18, 'max_depth': 7.59460378948218}. Best is trial 14 with value: 0.9733333333333333.\n",
            "[I 2024-10-31 19:20:47,664] Trial 69 finished with value: 0.9533333333333333 and parameters: {'classifier': 'RandomForest', 'n_estimators': 20, 'max_depth': 11.013395580917582}. Best is trial 14 with value: 0.9733333333333333.\n",
            "[I 2024-10-31 19:20:48,033] Trial 70 finished with value: 0.96 and parameters: {'classifier': 'RandomForest', 'n_estimators': 13, 'max_depth': 25.198277686037766}. Best is trial 14 with value: 0.9733333333333333.\n",
            "[I 2024-10-31 19:20:48,244] Trial 71 finished with value: 0.9466666666666667 and parameters: {'classifier': 'RandomForest', 'n_estimators': 5, 'max_depth': 8.364639312950557}. Best is trial 14 with value: 0.9733333333333333.\n",
            "[I 2024-10-31 19:20:48,394] Trial 72 finished with value: 0.9333333333333332 and parameters: {'classifier': 'RandomForest', 'n_estimators': 2, 'max_depth': 13.372555304195744}. Best is trial 14 with value: 0.9733333333333333.\n",
            "[I 2024-10-31 19:20:48,576] Trial 73 finished with value: 0.96 and parameters: {'classifier': 'RandomForest', 'n_estimators': 6, 'max_depth': 6.342717357398043}. Best is trial 14 with value: 0.9733333333333333.\n",
            "[I 2024-10-31 19:20:48,760] Trial 74 finished with value: 0.96 and parameters: {'classifier': 'RandomForest', 'n_estimators': 15, 'max_depth': 7.612327235727387}. Best is trial 14 with value: 0.9733333333333333.\n",
            "[I 2024-10-31 19:20:48,807] Trial 75 finished with value: 0.96 and parameters: {'classifier': 'SVC', 'svc_c': 887880.6717681349}. Best is trial 14 with value: 0.9733333333333333.\n",
            "[I 2024-10-31 19:20:48,956] Trial 76 finished with value: 0.96 and parameters: {'classifier': 'RandomForest', 'n_estimators': 11, 'max_depth': 5.223990097396126}. Best is trial 14 with value: 0.9733333333333333.\n",
            "[I 2024-10-31 19:20:49,182] Trial 77 finished with value: 0.9666666666666667 and parameters: {'classifier': 'RandomForest', 'n_estimators': 17, 'max_depth': 10.520895590162972}. Best is trial 14 with value: 0.9733333333333333.\n",
            "[I 2024-10-31 19:20:49,275] Trial 78 finished with value: 0.9666666666666667 and parameters: {'classifier': 'RandomForest', 'n_estimators': 7, 'max_depth': 9.124935589635902}. Best is trial 14 with value: 0.9733333333333333.\n",
            "[I 2024-10-31 19:20:49,412] Trial 79 finished with value: 0.9533333333333333 and parameters: {'classifier': 'RandomForest', 'n_estimators': 8, 'max_depth': 4.24959892503104}. Best is trial 14 with value: 0.9733333333333333.\n",
            "[I 2024-10-31 19:20:49,673] Trial 80 finished with value: 0.9666666666666667 and parameters: {'classifier': 'RandomForest', 'n_estimators': 19, 'max_depth': 16.117416907102204}. Best is trial 14 with value: 0.9733333333333333.\n",
            "[I 2024-10-31 19:20:49,876] Trial 81 finished with value: 0.9533333333333333 and parameters: {'classifier': 'RandomForest', 'n_estimators': 14, 'max_depth': 23.984575229317326}. Best is trial 14 with value: 0.9733333333333333.\n",
            "[I 2024-10-31 19:20:50,124] Trial 82 finished with value: 0.96 and parameters: {'classifier': 'RandomForest', 'n_estimators': 15, 'max_depth': 26.06746693988955}. Best is trial 14 with value: 0.9733333333333333.\n",
            "[I 2024-10-31 19:20:50,319] Trial 83 finished with value: 0.9666666666666667 and parameters: {'classifier': 'RandomForest', 'n_estimators': 16, 'max_depth': 12.337437694555723}. Best is trial 14 with value: 0.9733333333333333.\n",
            "[I 2024-10-31 19:20:50,505] Trial 84 finished with value: 0.96 and parameters: {'classifier': 'RandomForest', 'n_estimators': 12, 'max_depth': 14.386794565080075}. Best is trial 14 with value: 0.9733333333333333.\n",
            "[I 2024-10-31 19:20:50,712] Trial 85 finished with value: 0.9666666666666667 and parameters: {'classifier': 'RandomForest', 'n_estimators': 15, 'max_depth': 18.360425711524343}. Best is trial 14 with value: 0.9733333333333333.\n",
            "[I 2024-10-31 19:20:50,975] Trial 86 finished with value: 0.96 and parameters: {'classifier': 'RandomForest', 'n_estimators': 18, 'max_depth': 22.666088854332383}. Best is trial 14 with value: 0.9733333333333333.\n",
            "[I 2024-10-31 19:20:51,040] Trial 87 finished with value: 0.96 and parameters: {'classifier': 'SVC', 'svc_c': 0.32622340848910825}. Best is trial 14 with value: 0.9733333333333333.\n",
            "[I 2024-10-31 19:20:51,243] Trial 88 finished with value: 0.9666666666666667 and parameters: {'classifier': 'RandomForest', 'n_estimators': 13, 'max_depth': 7.313705980009629}. Best is trial 14 with value: 0.9733333333333333.\n",
            "[I 2024-10-31 19:20:51,346] Trial 89 finished with value: 0.96 and parameters: {'classifier': 'RandomForest', 'n_estimators': 10, 'max_depth': 17.741163466994166}. Best is trial 14 with value: 0.9733333333333333.\n",
            "[I 2024-10-31 19:20:51,569] Trial 90 finished with value: 0.9533333333333333 and parameters: {'classifier': 'RandomForest', 'n_estimators': 14, 'max_depth': 8.211192595745331}. Best is trial 14 with value: 0.9733333333333333.\n",
            "[I 2024-10-31 19:20:51,939] Trial 91 finished with value: 0.96 and parameters: {'classifier': 'RandomForest', 'n_estimators': 17, 'max_depth': 13.50048602790278}. Best is trial 14 with value: 0.9733333333333333.\n",
            "[I 2024-10-31 19:20:52,204] Trial 92 finished with value: 0.9533333333333333 and parameters: {'classifier': 'RandomForest', 'n_estimators': 16, 'max_depth': 11.0772294252996}. Best is trial 14 with value: 0.9733333333333333.\n",
            "[I 2024-10-31 19:20:52,366] Trial 93 finished with value: 0.9466666666666667 and parameters: {'classifier': 'RandomForest', 'n_estimators': 17, 'max_depth': 9.871648899550996}. Best is trial 14 with value: 0.9733333333333333.\n",
            "[I 2024-10-31 19:20:52,591] Trial 94 finished with value: 0.9533333333333333 and parameters: {'classifier': 'RandomForest', 'n_estimators': 18, 'max_depth': 12.461137315811321}. Best is trial 14 with value: 0.9733333333333333.\n",
            "[I 2024-10-31 19:20:52,812] Trial 95 finished with value: 0.9466666666666667 and parameters: {'classifier': 'RandomForest', 'n_estimators': 19, 'max_depth': 14.844948586267153}. Best is trial 14 with value: 0.9733333333333333.\n",
            "[I 2024-10-31 19:20:52,949] Trial 96 finished with value: 0.86 and parameters: {'classifier': 'RandomForest', 'n_estimators': 16, 'max_depth': 1.0111288365962674}. Best is trial 14 with value: 0.9733333333333333.\n",
            "[I 2024-10-31 19:20:53,102] Trial 97 finished with value: 0.96 and parameters: {'classifier': 'RandomForest', 'n_estimators': 15, 'max_depth': 5.878982952338544}. Best is trial 14 with value: 0.9733333333333333.\n",
            "[I 2024-10-31 19:20:53,313] Trial 98 finished with value: 0.9666666666666667 and parameters: {'classifier': 'RandomForest', 'n_estimators': 17, 'max_depth': 27.238643617301342}. Best is trial 14 with value: 0.9733333333333333.\n",
            "[I 2024-10-31 19:20:53,365] Trial 99 finished with value: 0.32 and parameters: {'classifier': 'SVC', 'svc_c': 7.98810235436953e-08}. Best is trial 14 with value: 0.9733333333333333.\n"
          ]
        },
        {
          "output_type": "stream",
          "name": "stdout",
          "text": [
            "Accuracy: 0.9733333333333333\n",
            "Best hyperparameters: {'classifier': 'RandomForest', 'n_estimators': 9, 'max_depth': 13.694960234176065}\n"
          ]
        }
      ],
      "source": [
        "import sklearn.svm\n",
        "\n",
        "\n",
        "def objective(trial):\n",
        "    iris = sklearn.datasets.load_iris()\n",
        "\n",
        "    classifier = trial.suggest_categorical(\"classifier\", [\"RandomForest\", \"SVC\"])\n",
        "\n",
        "    if classifier == \"RandomForest\":\n",
        "        n_estimators = trial.suggest_int(\"n_estimators\", 2, 20)\n",
        "        max_depth = int(trial.suggest_float(\"max_depth\", 1, 32, log=True))\n",
        "\n",
        "        clf = sklearn.ensemble.RandomForestClassifier(\n",
        "            n_estimators=n_estimators, max_depth=max_depth\n",
        "        )\n",
        "    else:\n",
        "        c = trial.suggest_float(\"svc_c\", 1e-10, 1e10, log=True)\n",
        "\n",
        "        clf = sklearn.svm.SVC(C=c, gamma=\"auto\")\n",
        "\n",
        "    return sklearn.model_selection.cross_val_score(\n",
        "        clf, iris.data, iris.target, n_jobs=-1, cv=3\n",
        "    ).mean()\n",
        "\n",
        "\n",
        "study = optuna.create_study(direction=\"maximize\")\n",
        "study.optimize(objective, n_trials=100)\n",
        "\n",
        "trial = study.best_trial\n",
        "\n",
        "print(\"Accuracy: {}\".format(trial.value))\n",
        "print(\"Best hyperparameters: {}\".format(trial.params))"
      ]
    },
    {
      "cell_type": "markdown",
      "metadata": {
        "id": "QoBAaUCBBR5q"
      },
      "source": [
        "### Plotting the study\n",
        "\n",
        "Plotting the optimization history of the study."
      ]
    },
    {
      "cell_type": "code",
      "execution_count": 23,
      "metadata": {
        "colab": {
          "base_uri": "https://localhost:8080/",
          "height": 542
        },
        "id": "5yfSMcyNBR5q",
        "outputId": "b325b56b-f864-4169-fece-8bd8bc2d2074"
      },
      "outputs": [
        {
          "output_type": "display_data",
          "data": {
            "text/html": [
              "<html>\n",
              "<head><meta charset=\"utf-8\" /></head>\n",
              "<body>\n",
              "    <div>            <script src=\"https://cdnjs.cloudflare.com/ajax/libs/mathjax/2.7.5/MathJax.js?config=TeX-AMS-MML_SVG\"></script><script type=\"text/javascript\">if (window.MathJax && window.MathJax.Hub && window.MathJax.Hub.Config) {window.MathJax.Hub.Config({SVG: {font: \"STIX-Web\"}});}</script>                <script type=\"text/javascript\">window.PlotlyConfig = {MathJaxConfig: 'local'};</script>\n",
              "        <script charset=\"utf-8\" src=\"https://cdn.plot.ly/plotly-2.35.2.min.js\"></script>                <div id=\"210bd825-e9ea-4022-a0d5-b1b596c855f2\" class=\"plotly-graph-div\" style=\"height:525px; width:100%;\"></div>            <script type=\"text/javascript\">                                    window.PLOTLYENV=window.PLOTLYENV || {};                                    if (document.getElementById(\"210bd825-e9ea-4022-a0d5-b1b596c855f2\")) {                    Plotly.newPlot(                        \"210bd825-e9ea-4022-a0d5-b1b596c855f2\",                        [{\"mode\":\"markers\",\"name\":\"Objective Value\",\"x\":[0,1,2,3,4,5,6,7,8,9,10,11,12,13,14,15,16,17,18,19,20,21,22,23,24,25,26,27,28,29,30,31,32,33,34,35,36,37,38,39,40,41,42,43,44,45,46,47,48,49,50,51,52,53,54,55,56,57,58,59,60,61,62,63,64,65,66,67,68,69,70,71,72,73,74,75,76,77,78,79,80,81,82,83,84,85,86,87,88,89,90,91,92,93,94,95,96,97,98,99],\"y\":[0.32,0.9266666666666666,0.94,0.9466666666666667,0.96,0.9666666666666667,0.9533333333333333,0.32,0.96,0.7000000000000001,0.9666666666666667,0.9533333333333333,0.9533333333333333,0.9666666666666667,0.9733333333333333,0.9533333333333333,0.96,0.9,0.32,0.9466666666666667,0.9533333333333333,0.96,0.9466666666666667,0.9666666666666667,0.96,0.9666666666666667,0.96,0.8733333333333334,0.9666666666666667,0.96,0.96,0.9733333333333333,0.9666666666666667,0.9533333333333333,0.9666666666666667,0.9733333333333333,0.9533333333333333,0.9266666666666666,0.9533333333333333,0.96,0.32,0.96,0.9466666666666667,0.9533333333333333,0.96,0.96,0.9533333333333333,0.9666666666666667,0.96,0.96,0.96,0.9533333333333333,0.9533333333333333,0.9533333333333333,0.96,0.9666666666666667,0.9666666666666667,0.96,0.96,0.9533333333333333,0.9666666666666667,0.9666666666666667,0.9533333333333333,0.96,0.9533333333333333,0.32,0.9533333333333333,0.9666666666666667,0.9666666666666667,0.9533333333333333,0.96,0.9466666666666667,0.9333333333333332,0.96,0.96,0.96,0.96,0.9666666666666667,0.9666666666666667,0.9533333333333333,0.9666666666666667,0.9533333333333333,0.96,0.9666666666666667,0.96,0.9666666666666667,0.96,0.96,0.9666666666666667,0.96,0.9533333333333333,0.96,0.9533333333333333,0.9466666666666667,0.9533333333333333,0.9466666666666667,0.86,0.96,0.9666666666666667,0.32],\"type\":\"scatter\"},{\"mode\":\"lines\",\"name\":\"Best Value\",\"x\":[0,1,2,3,4,5,6,7,8,9,10,11,12,13,14,15,16,17,18,19,20,21,22,23,24,25,26,27,28,29,30,31,32,33,34,35,36,37,38,39,40,41,42,43,44,45,46,47,48,49,50,51,52,53,54,55,56,57,58,59,60,61,62,63,64,65,66,67,68,69,70,71,72,73,74,75,76,77,78,79,80,81,82,83,84,85,86,87,88,89,90,91,92,93,94,95,96,97,98,99],\"y\":[0.32,0.9266666666666666,0.94,0.9466666666666667,0.96,0.9666666666666667,0.9666666666666667,0.9666666666666667,0.9666666666666667,0.9666666666666667,0.9666666666666667,0.9666666666666667,0.9666666666666667,0.9666666666666667,0.9733333333333333,0.9733333333333333,0.9733333333333333,0.9733333333333333,0.9733333333333333,0.9733333333333333,0.9733333333333333,0.9733333333333333,0.9733333333333333,0.9733333333333333,0.9733333333333333,0.9733333333333333,0.9733333333333333,0.9733333333333333,0.9733333333333333,0.9733333333333333,0.9733333333333333,0.9733333333333333,0.9733333333333333,0.9733333333333333,0.9733333333333333,0.9733333333333333,0.9733333333333333,0.9733333333333333,0.9733333333333333,0.9733333333333333,0.9733333333333333,0.9733333333333333,0.9733333333333333,0.9733333333333333,0.9733333333333333,0.9733333333333333,0.9733333333333333,0.9733333333333333,0.9733333333333333,0.9733333333333333,0.9733333333333333,0.9733333333333333,0.9733333333333333,0.9733333333333333,0.9733333333333333,0.9733333333333333,0.9733333333333333,0.9733333333333333,0.9733333333333333,0.9733333333333333,0.9733333333333333,0.9733333333333333,0.9733333333333333,0.9733333333333333,0.9733333333333333,0.9733333333333333,0.9733333333333333,0.9733333333333333,0.9733333333333333,0.9733333333333333,0.9733333333333333,0.9733333333333333,0.9733333333333333,0.9733333333333333,0.9733333333333333,0.9733333333333333,0.9733333333333333,0.9733333333333333,0.9733333333333333,0.9733333333333333,0.9733333333333333,0.9733333333333333,0.9733333333333333,0.9733333333333333,0.9733333333333333,0.9733333333333333,0.9733333333333333,0.9733333333333333,0.9733333333333333,0.9733333333333333,0.9733333333333333,0.9733333333333333,0.9733333333333333,0.9733333333333333,0.9733333333333333,0.9733333333333333,0.9733333333333333,0.9733333333333333,0.9733333333333333,0.9733333333333333],\"type\":\"scatter\"},{\"marker\":{\"color\":\"#cccccc\"},\"mode\":\"markers\",\"name\":\"Infeasible Trial\",\"showlegend\":false,\"x\":[],\"y\":[],\"type\":\"scatter\"}],                        {\"title\":{\"text\":\"Optimization History Plot\"},\"xaxis\":{\"title\":{\"text\":\"Trial\"}},\"yaxis\":{\"title\":{\"text\":\"Objective Value\"}},\"template\":{\"data\":{\"histogram2dcontour\":[{\"type\":\"histogram2dcontour\",\"colorbar\":{\"outlinewidth\":0,\"ticks\":\"\"},\"colorscale\":[[0.0,\"#0d0887\"],[0.1111111111111111,\"#46039f\"],[0.2222222222222222,\"#7201a8\"],[0.3333333333333333,\"#9c179e\"],[0.4444444444444444,\"#bd3786\"],[0.5555555555555556,\"#d8576b\"],[0.6666666666666666,\"#ed7953\"],[0.7777777777777778,\"#fb9f3a\"],[0.8888888888888888,\"#fdca26\"],[1.0,\"#f0f921\"]]}],\"choropleth\":[{\"type\":\"choropleth\",\"colorbar\":{\"outlinewidth\":0,\"ticks\":\"\"}}],\"histogram2d\":[{\"type\":\"histogram2d\",\"colorbar\":{\"outlinewidth\":0,\"ticks\":\"\"},\"colorscale\":[[0.0,\"#0d0887\"],[0.1111111111111111,\"#46039f\"],[0.2222222222222222,\"#7201a8\"],[0.3333333333333333,\"#9c179e\"],[0.4444444444444444,\"#bd3786\"],[0.5555555555555556,\"#d8576b\"],[0.6666666666666666,\"#ed7953\"],[0.7777777777777778,\"#fb9f3a\"],[0.8888888888888888,\"#fdca26\"],[1.0,\"#f0f921\"]]}],\"heatmap\":[{\"type\":\"heatmap\",\"colorbar\":{\"outlinewidth\":0,\"ticks\":\"\"},\"colorscale\":[[0.0,\"#0d0887\"],[0.1111111111111111,\"#46039f\"],[0.2222222222222222,\"#7201a8\"],[0.3333333333333333,\"#9c179e\"],[0.4444444444444444,\"#bd3786\"],[0.5555555555555556,\"#d8576b\"],[0.6666666666666666,\"#ed7953\"],[0.7777777777777778,\"#fb9f3a\"],[0.8888888888888888,\"#fdca26\"],[1.0,\"#f0f921\"]]}],\"heatmapgl\":[{\"type\":\"heatmapgl\",\"colorbar\":{\"outlinewidth\":0,\"ticks\":\"\"},\"colorscale\":[[0.0,\"#0d0887\"],[0.1111111111111111,\"#46039f\"],[0.2222222222222222,\"#7201a8\"],[0.3333333333333333,\"#9c179e\"],[0.4444444444444444,\"#bd3786\"],[0.5555555555555556,\"#d8576b\"],[0.6666666666666666,\"#ed7953\"],[0.7777777777777778,\"#fb9f3a\"],[0.8888888888888888,\"#fdca26\"],[1.0,\"#f0f921\"]]}],\"contourcarpet\":[{\"type\":\"contourcarpet\",\"colorbar\":{\"outlinewidth\":0,\"ticks\":\"\"}}],\"contour\":[{\"type\":\"contour\",\"colorbar\":{\"outlinewidth\":0,\"ticks\":\"\"},\"colorscale\":[[0.0,\"#0d0887\"],[0.1111111111111111,\"#46039f\"],[0.2222222222222222,\"#7201a8\"],[0.3333333333333333,\"#9c179e\"],[0.4444444444444444,\"#bd3786\"],[0.5555555555555556,\"#d8576b\"],[0.6666666666666666,\"#ed7953\"],[0.7777777777777778,\"#fb9f3a\"],[0.8888888888888888,\"#fdca26\"],[1.0,\"#f0f921\"]]}],\"surface\":[{\"type\":\"surface\",\"colorbar\":{\"outlinewidth\":0,\"ticks\":\"\"},\"colorscale\":[[0.0,\"#0d0887\"],[0.1111111111111111,\"#46039f\"],[0.2222222222222222,\"#7201a8\"],[0.3333333333333333,\"#9c179e\"],[0.4444444444444444,\"#bd3786\"],[0.5555555555555556,\"#d8576b\"],[0.6666666666666666,\"#ed7953\"],[0.7777777777777778,\"#fb9f3a\"],[0.8888888888888888,\"#fdca26\"],[1.0,\"#f0f921\"]]}],\"mesh3d\":[{\"type\":\"mesh3d\",\"colorbar\":{\"outlinewidth\":0,\"ticks\":\"\"}}],\"scatter\":[{\"fillpattern\":{\"fillmode\":\"overlay\",\"size\":10,\"solidity\":0.2},\"type\":\"scatter\"}],\"parcoords\":[{\"type\":\"parcoords\",\"line\":{\"colorbar\":{\"outlinewidth\":0,\"ticks\":\"\"}}}],\"scatterpolargl\":[{\"type\":\"scatterpolargl\",\"marker\":{\"colorbar\":{\"outlinewidth\":0,\"ticks\":\"\"}}}],\"bar\":[{\"error_x\":{\"color\":\"#2a3f5f\"},\"error_y\":{\"color\":\"#2a3f5f\"},\"marker\":{\"line\":{\"color\":\"#E5ECF6\",\"width\":0.5},\"pattern\":{\"fillmode\":\"overlay\",\"size\":10,\"solidity\":0.2}},\"type\":\"bar\"}],\"scattergeo\":[{\"type\":\"scattergeo\",\"marker\":{\"colorbar\":{\"outlinewidth\":0,\"ticks\":\"\"}}}],\"scatterpolar\":[{\"type\":\"scatterpolar\",\"marker\":{\"colorbar\":{\"outlinewidth\":0,\"ticks\":\"\"}}}],\"histogram\":[{\"marker\":{\"pattern\":{\"fillmode\":\"overlay\",\"size\":10,\"solidity\":0.2}},\"type\":\"histogram\"}],\"scattergl\":[{\"type\":\"scattergl\",\"marker\":{\"colorbar\":{\"outlinewidth\":0,\"ticks\":\"\"}}}],\"scatter3d\":[{\"type\":\"scatter3d\",\"line\":{\"colorbar\":{\"outlinewidth\":0,\"ticks\":\"\"}},\"marker\":{\"colorbar\":{\"outlinewidth\":0,\"ticks\":\"\"}}}],\"scattermapbox\":[{\"type\":\"scattermapbox\",\"marker\":{\"colorbar\":{\"outlinewidth\":0,\"ticks\":\"\"}}}],\"scatterternary\":[{\"type\":\"scatterternary\",\"marker\":{\"colorbar\":{\"outlinewidth\":0,\"ticks\":\"\"}}}],\"scattercarpet\":[{\"type\":\"scattercarpet\",\"marker\":{\"colorbar\":{\"outlinewidth\":0,\"ticks\":\"\"}}}],\"carpet\":[{\"aaxis\":{\"endlinecolor\":\"#2a3f5f\",\"gridcolor\":\"white\",\"linecolor\":\"white\",\"minorgridcolor\":\"white\",\"startlinecolor\":\"#2a3f5f\"},\"baxis\":{\"endlinecolor\":\"#2a3f5f\",\"gridcolor\":\"white\",\"linecolor\":\"white\",\"minorgridcolor\":\"white\",\"startlinecolor\":\"#2a3f5f\"},\"type\":\"carpet\"}],\"table\":[{\"cells\":{\"fill\":{\"color\":\"#EBF0F8\"},\"line\":{\"color\":\"white\"}},\"header\":{\"fill\":{\"color\":\"#C8D4E3\"},\"line\":{\"color\":\"white\"}},\"type\":\"table\"}],\"barpolar\":[{\"marker\":{\"line\":{\"color\":\"#E5ECF6\",\"width\":0.5},\"pattern\":{\"fillmode\":\"overlay\",\"size\":10,\"solidity\":0.2}},\"type\":\"barpolar\"}],\"pie\":[{\"automargin\":true,\"type\":\"pie\"}]},\"layout\":{\"autotypenumbers\":\"strict\",\"colorway\":[\"#636efa\",\"#EF553B\",\"#00cc96\",\"#ab63fa\",\"#FFA15A\",\"#19d3f3\",\"#FF6692\",\"#B6E880\",\"#FF97FF\",\"#FECB52\"],\"font\":{\"color\":\"#2a3f5f\"},\"hovermode\":\"closest\",\"hoverlabel\":{\"align\":\"left\"},\"paper_bgcolor\":\"white\",\"plot_bgcolor\":\"#E5ECF6\",\"polar\":{\"bgcolor\":\"#E5ECF6\",\"angularaxis\":{\"gridcolor\":\"white\",\"linecolor\":\"white\",\"ticks\":\"\"},\"radialaxis\":{\"gridcolor\":\"white\",\"linecolor\":\"white\",\"ticks\":\"\"}},\"ternary\":{\"bgcolor\":\"#E5ECF6\",\"aaxis\":{\"gridcolor\":\"white\",\"linecolor\":\"white\",\"ticks\":\"\"},\"baxis\":{\"gridcolor\":\"white\",\"linecolor\":\"white\",\"ticks\":\"\"},\"caxis\":{\"gridcolor\":\"white\",\"linecolor\":\"white\",\"ticks\":\"\"}},\"coloraxis\":{\"colorbar\":{\"outlinewidth\":0,\"ticks\":\"\"}},\"colorscale\":{\"sequential\":[[0.0,\"#0d0887\"],[0.1111111111111111,\"#46039f\"],[0.2222222222222222,\"#7201a8\"],[0.3333333333333333,\"#9c179e\"],[0.4444444444444444,\"#bd3786\"],[0.5555555555555556,\"#d8576b\"],[0.6666666666666666,\"#ed7953\"],[0.7777777777777778,\"#fb9f3a\"],[0.8888888888888888,\"#fdca26\"],[1.0,\"#f0f921\"]],\"sequentialminus\":[[0.0,\"#0d0887\"],[0.1111111111111111,\"#46039f\"],[0.2222222222222222,\"#7201a8\"],[0.3333333333333333,\"#9c179e\"],[0.4444444444444444,\"#bd3786\"],[0.5555555555555556,\"#d8576b\"],[0.6666666666666666,\"#ed7953\"],[0.7777777777777778,\"#fb9f3a\"],[0.8888888888888888,\"#fdca26\"],[1.0,\"#f0f921\"]],\"diverging\":[[0,\"#8e0152\"],[0.1,\"#c51b7d\"],[0.2,\"#de77ae\"],[0.3,\"#f1b6da\"],[0.4,\"#fde0ef\"],[0.5,\"#f7f7f7\"],[0.6,\"#e6f5d0\"],[0.7,\"#b8e186\"],[0.8,\"#7fbc41\"],[0.9,\"#4d9221\"],[1,\"#276419\"]]},\"xaxis\":{\"gridcolor\":\"white\",\"linecolor\":\"white\",\"ticks\":\"\",\"title\":{\"standoff\":15},\"zerolinecolor\":\"white\",\"automargin\":true,\"zerolinewidth\":2},\"yaxis\":{\"gridcolor\":\"white\",\"linecolor\":\"white\",\"ticks\":\"\",\"title\":{\"standoff\":15},\"zerolinecolor\":\"white\",\"automargin\":true,\"zerolinewidth\":2},\"scene\":{\"xaxis\":{\"backgroundcolor\":\"#E5ECF6\",\"gridcolor\":\"white\",\"linecolor\":\"white\",\"showbackground\":true,\"ticks\":\"\",\"zerolinecolor\":\"white\",\"gridwidth\":2},\"yaxis\":{\"backgroundcolor\":\"#E5ECF6\",\"gridcolor\":\"white\",\"linecolor\":\"white\",\"showbackground\":true,\"ticks\":\"\",\"zerolinecolor\":\"white\",\"gridwidth\":2},\"zaxis\":{\"backgroundcolor\":\"#E5ECF6\",\"gridcolor\":\"white\",\"linecolor\":\"white\",\"showbackground\":true,\"ticks\":\"\",\"zerolinecolor\":\"white\",\"gridwidth\":2}},\"shapedefaults\":{\"line\":{\"color\":\"#2a3f5f\"}},\"annotationdefaults\":{\"arrowcolor\":\"#2a3f5f\",\"arrowhead\":0,\"arrowwidth\":1},\"geo\":{\"bgcolor\":\"white\",\"landcolor\":\"#E5ECF6\",\"subunitcolor\":\"white\",\"showland\":true,\"showlakes\":true,\"lakecolor\":\"white\"},\"title\":{\"x\":0.05},\"mapbox\":{\"style\":\"light\"}}}},                        {\"responsive\": true}                    ).then(function(){\n",
              "                            \n",
              "var gd = document.getElementById('210bd825-e9ea-4022-a0d5-b1b596c855f2');\n",
              "var x = new MutationObserver(function (mutations, observer) {{\n",
              "        var display = window.getComputedStyle(gd).display;\n",
              "        if (!display || display === 'none') {{\n",
              "            console.log([gd, 'removed!']);\n",
              "            Plotly.purge(gd);\n",
              "            observer.disconnect();\n",
              "        }}\n",
              "}});\n",
              "\n",
              "// Listen for the removal of the full notebook cells\n",
              "var notebookContainer = gd.closest('#notebook-container');\n",
              "if (notebookContainer) {{\n",
              "    x.observe(notebookContainer, {childList: true});\n",
              "}}\n",
              "\n",
              "// Listen for the clearing of the current output cell\n",
              "var outputEl = gd.closest('.output');\n",
              "if (outputEl) {{\n",
              "    x.observe(outputEl, {childList: true});\n",
              "}}\n",
              "\n",
              "                        })                };                            </script>        </div>\n",
              "</body>\n",
              "</html>"
            ]
          },
          "metadata": {}
        }
      ],
      "source": [
        "optuna.visualization.plot_optimization_history(study)"
      ]
    },
    {
      "cell_type": "markdown",
      "metadata": {
        "id": "v02kRS1ABR5q"
      },
      "source": [
        "Plotting the accuracies for each hyperparameter for each trial."
      ]
    },
    {
      "cell_type": "code",
      "execution_count": 24,
      "metadata": {
        "colab": {
          "base_uri": "https://localhost:8080/",
          "height": 542
        },
        "id": "yOg78jONBR5r",
        "outputId": "39a24cd0-cd17-40db-8c4a-d778e59a915b"
      },
      "outputs": [
        {
          "output_type": "display_data",
          "data": {
            "text/html": [
              "<html>\n",
              "<head><meta charset=\"utf-8\" /></head>\n",
              "<body>\n",
              "    <div>            <script src=\"https://cdnjs.cloudflare.com/ajax/libs/mathjax/2.7.5/MathJax.js?config=TeX-AMS-MML_SVG\"></script><script type=\"text/javascript\">if (window.MathJax && window.MathJax.Hub && window.MathJax.Hub.Config) {window.MathJax.Hub.Config({SVG: {font: \"STIX-Web\"}});}</script>                <script type=\"text/javascript\">window.PlotlyConfig = {MathJaxConfig: 'local'};</script>\n",
              "        <script charset=\"utf-8\" src=\"https://cdn.plot.ly/plotly-2.35.2.min.js\"></script>                <div id=\"c14c9b4b-32c5-44e7-9bf3-d9afde277bb8\" class=\"plotly-graph-div\" style=\"height:525px; width:1200px;\"></div>            <script type=\"text/javascript\">                                    window.PLOTLYENV=window.PLOTLYENV || {};                                    if (document.getElementById(\"c14c9b4b-32c5-44e7-9bf3-d9afde277bb8\")) {                    Plotly.newPlot(                        \"c14c9b4b-32c5-44e7-9bf3-d9afde277bb8\",                        [{\"marker\":{\"color\":[0,1,2,3,4,5,6,7,8,9,10,11,12,13,14,15,16,17,18,19,20,21,22,23,24,25,26,27,28,29,30,31,32,33,34,35,36,37,38,39,40,41,42,43,44,45,46,47,48,49,50,51,52,53,54,55,56,57,58,59,60,61,62,63,64,65,66,67,68,69,70,71,72,73,74,75,76,77,78,79,80,81,82,83,84,85,86,87,88,89,90,91,92,93,94,95,96,97,98,99],\"colorbar\":{\"title\":{\"text\":\"Trial\"},\"x\":1.0,\"xpad\":40},\"colorscale\":[[0.0,\"rgb(247,251,255)\"],[0.125,\"rgb(222,235,247)\"],[0.25,\"rgb(198,219,239)\"],[0.375,\"rgb(158,202,225)\"],[0.5,\"rgb(107,174,214)\"],[0.625,\"rgb(66,146,198)\"],[0.75,\"rgb(33,113,181)\"],[0.875,\"rgb(8,81,156)\"],[1.0,\"rgb(8,48,107)\"]],\"line\":{\"color\":\"Grey\",\"width\":0.5},\"showscale\":true},\"mode\":\"markers\",\"name\":\"Feasible Trial\",\"showlegend\":false,\"x\":[\"SVC\",\"RandomForest\",\"RandomForest\",\"SVC\",\"RandomForest\",\"RandomForest\",\"RandomForest\",\"SVC\",\"SVC\",\"RandomForest\",\"RandomForest\",\"RandomForest\",\"RandomForest\",\"RandomForest\",\"RandomForest\",\"RandomForest\",\"RandomForest\",\"RandomForest\",\"SVC\",\"RandomForest\",\"RandomForest\",\"RandomForest\",\"RandomForest\",\"RandomForest\",\"RandomForest\",\"RandomForest\",\"SVC\",\"RandomForest\",\"RandomForest\",\"SVC\",\"RandomForest\",\"RandomForest\",\"RandomForest\",\"RandomForest\",\"RandomForest\",\"RandomForest\",\"RandomForest\",\"SVC\",\"RandomForest\",\"RandomForest\",\"SVC\",\"RandomForest\",\"RandomForest\",\"RandomForest\",\"RandomForest\",\"RandomForest\",\"RandomForest\",\"RandomForest\",\"RandomForest\",\"RandomForest\",\"SVC\",\"RandomForest\",\"RandomForest\",\"RandomForest\",\"RandomForest\",\"RandomForest\",\"RandomForest\",\"RandomForest\",\"RandomForest\",\"RandomForest\",\"RandomForest\",\"RandomForest\",\"RandomForest\",\"RandomForest\",\"RandomForest\",\"SVC\",\"RandomForest\",\"RandomForest\",\"RandomForest\",\"RandomForest\",\"RandomForest\",\"RandomForest\",\"RandomForest\",\"RandomForest\",\"RandomForest\",\"SVC\",\"RandomForest\",\"RandomForest\",\"RandomForest\",\"RandomForest\",\"RandomForest\",\"RandomForest\",\"RandomForest\",\"RandomForest\",\"RandomForest\",\"RandomForest\",\"RandomForest\",\"SVC\",\"RandomForest\",\"RandomForest\",\"RandomForest\",\"RandomForest\",\"RandomForest\",\"RandomForest\",\"RandomForest\",\"RandomForest\",\"RandomForest\",\"RandomForest\",\"RandomForest\",\"SVC\"],\"y\":[0.32,0.9266666666666666,0.94,0.9466666666666667,0.96,0.9666666666666667,0.9533333333333333,0.32,0.96,0.7000000000000001,0.9666666666666667,0.9533333333333333,0.9533333333333333,0.9666666666666667,0.9733333333333333,0.9533333333333333,0.96,0.9,0.32,0.9466666666666667,0.9533333333333333,0.96,0.9466666666666667,0.9666666666666667,0.96,0.9666666666666667,0.96,0.8733333333333334,0.9666666666666667,0.96,0.96,0.9733333333333333,0.9666666666666667,0.9533333333333333,0.9666666666666667,0.9733333333333333,0.9533333333333333,0.9266666666666666,0.9533333333333333,0.96,0.32,0.96,0.9466666666666667,0.9533333333333333,0.96,0.96,0.9533333333333333,0.9666666666666667,0.96,0.96,0.96,0.9533333333333333,0.9533333333333333,0.9533333333333333,0.96,0.9666666666666667,0.9666666666666667,0.96,0.96,0.9533333333333333,0.9666666666666667,0.9666666666666667,0.9533333333333333,0.96,0.9533333333333333,0.32,0.9533333333333333,0.9666666666666667,0.9666666666666667,0.9533333333333333,0.96,0.9466666666666667,0.9333333333333332,0.96,0.96,0.96,0.96,0.9666666666666667,0.9666666666666667,0.9533333333333333,0.9666666666666667,0.9533333333333333,0.96,0.9666666666666667,0.96,0.9666666666666667,0.96,0.96,0.9666666666666667,0.96,0.9533333333333333,0.96,0.9533333333333333,0.9466666666666667,0.9533333333333333,0.9466666666666667,0.86,0.96,0.9666666666666667,0.32],\"type\":\"scatter\",\"xaxis\":\"x\",\"yaxis\":\"y\"},{\"marker\":{\"color\":[1,2,4,5,6,9,10,11,12,13,14,15,16,17,19,20,21,22,23,24,25,27,28,30,31,32,33,34,35,36,38,39,41,42,43,44,45,46,47,48,49,51,52,53,54,55,56,57,58,59,60,61,62,63,64,66,67,68,69,70,71,72,73,74,76,77,78,79,80,81,82,83,84,85,86,88,89,90,91,92,93,94,95,96,97,98],\"colorbar\":{\"title\":{\"text\":\"Trial\"},\"x\":1.0,\"xpad\":40},\"colorscale\":[[0.0,\"rgb(247,251,255)\"],[0.125,\"rgb(222,235,247)\"],[0.25,\"rgb(198,219,239)\"],[0.375,\"rgb(158,202,225)\"],[0.5,\"rgb(107,174,214)\"],[0.625,\"rgb(66,146,198)\"],[0.75,\"rgb(33,113,181)\"],[0.875,\"rgb(8,81,156)\"],[1.0,\"rgb(8,48,107)\"]],\"line\":{\"color\":\"Grey\",\"width\":0.5},\"showscale\":false},\"mode\":\"markers\",\"name\":\"Feasible Trial\",\"showlegend\":false,\"x\":[1.7077557240357757,6.081074004510159,3.5021683372127503,6.581740642467166,5.669283067982343,1.620604077294059,20.717206151564167,30.022116534904175,20.06610948288619,10.886002785319123,13.694960234176065,10.764103137508556,10.252096170654028,2.964341758623043,8.185589654396503,3.608971429558969,18.039409837155095,18.163012128402578,30.420625448061692,15.39461449758445,8.048208189342757,1.0001577750333317,24.920392662265446,14.938149740159975,12.50720158899612,13.154390171806035,22.667161404041142,7.618572558485809,12.984844973700298,11.894429854356913,4.434832671516775,8.859947616067826,14.53043164011562,6.569945224098754,17.657235073296736,24.27805790112502,4.967199553059096,13.704894865909454,9.828812531047546,21.685788378010486,6.9216511444496875,11.494474721629478,9.918685451701561,11.849751717103524,5.640578946650227,9.233181616808286,16.560642951285296,19.823667527487626,2.6978772477413693,26.967156348894427,12.854575306953079,28.55155936351996,29.543965283839615,19.602863416347628,31.460886607346566,15.6478337210737,21.05791112736846,7.59460378948218,11.013395580917582,25.198277686037766,8.364639312950557,13.372555304195744,6.342717357398043,7.612327235727387,5.223990097396126,10.520895590162972,9.124935589635902,4.24959892503104,16.117416907102204,23.984575229317326,26.06746693988955,12.337437694555723,14.386794565080075,18.360425711524343,22.666088854332383,7.313705980009629,17.741163466994166,8.211192595745331,13.50048602790278,11.0772294252996,9.871648899550996,12.461137315811321,14.844948586267153,1.0111288365962674,5.878982952338544,27.238643617301342],\"y\":[0.9266666666666666,0.94,0.96,0.9666666666666667,0.9533333333333333,0.7000000000000001,0.9666666666666667,0.9533333333333333,0.9533333333333333,0.9666666666666667,0.9733333333333333,0.9533333333333333,0.96,0.9,0.9466666666666667,0.9533333333333333,0.96,0.9466666666666667,0.9666666666666667,0.96,0.9666666666666667,0.8733333333333334,0.9666666666666667,0.96,0.9733333333333333,0.9666666666666667,0.9533333333333333,0.9666666666666667,0.9733333333333333,0.9533333333333333,0.9533333333333333,0.96,0.96,0.9466666666666667,0.9533333333333333,0.96,0.96,0.9533333333333333,0.9666666666666667,0.96,0.96,0.9533333333333333,0.9533333333333333,0.9533333333333333,0.96,0.9666666666666667,0.9666666666666667,0.96,0.96,0.9533333333333333,0.9666666666666667,0.9666666666666667,0.9533333333333333,0.96,0.9533333333333333,0.9533333333333333,0.9666666666666667,0.9666666666666667,0.9533333333333333,0.96,0.9466666666666667,0.9333333333333332,0.96,0.96,0.96,0.9666666666666667,0.9666666666666667,0.9533333333333333,0.9666666666666667,0.9533333333333333,0.96,0.9666666666666667,0.96,0.9666666666666667,0.96,0.9666666666666667,0.96,0.9533333333333333,0.96,0.9533333333333333,0.9466666666666667,0.9533333333333333,0.9466666666666667,0.86,0.96,0.9666666666666667],\"type\":\"scatter\",\"xaxis\":\"x2\",\"yaxis\":\"y2\"},{\"marker\":{\"color\":[1,2,4,5,6,9,10,11,12,13,14,15,16,17,19,20,21,22,23,24,25,27,28,30,31,32,33,34,35,36,38,39,41,42,43,44,45,46,47,48,49,51,52,53,54,55,56,57,58,59,60,61,62,63,64,66,67,68,69,70,71,72,73,74,76,77,78,79,80,81,82,83,84,85,86,88,89,90,91,92,93,94,95,96,97,98],\"colorbar\":{\"title\":{\"text\":\"Trial\"},\"x\":1.0,\"xpad\":40},\"colorscale\":[[0.0,\"rgb(247,251,255)\"],[0.125,\"rgb(222,235,247)\"],[0.25,\"rgb(198,219,239)\"],[0.375,\"rgb(158,202,225)\"],[0.5,\"rgb(107,174,214)\"],[0.625,\"rgb(66,146,198)\"],[0.75,\"rgb(33,113,181)\"],[0.875,\"rgb(8,81,156)\"],[1.0,\"rgb(8,48,107)\"]],\"line\":{\"color\":\"Grey\",\"width\":0.5},\"showscale\":false},\"mode\":\"markers\",\"name\":\"Feasible Trial\",\"showlegend\":false,\"x\":[13,2,20,13,12,7,18,19,15,16,9,8,9,3,6,10,17,14,11,18,6,12,15,10,17,17,20,18,14,14,13,13,15,17,11,16,19,12,14,19,16,16,18,15,8,16,14,17,12,9,4,11,10,13,11,7,9,18,20,13,5,2,6,15,11,17,7,8,19,14,15,16,12,15,18,13,10,14,17,16,17,18,19,16,15,17],\"y\":[0.9266666666666666,0.94,0.96,0.9666666666666667,0.9533333333333333,0.7000000000000001,0.9666666666666667,0.9533333333333333,0.9533333333333333,0.9666666666666667,0.9733333333333333,0.9533333333333333,0.96,0.9,0.9466666666666667,0.9533333333333333,0.96,0.9466666666666667,0.9666666666666667,0.96,0.9666666666666667,0.8733333333333334,0.9666666666666667,0.96,0.9733333333333333,0.9666666666666667,0.9533333333333333,0.9666666666666667,0.9733333333333333,0.9533333333333333,0.9533333333333333,0.96,0.96,0.9466666666666667,0.9533333333333333,0.96,0.96,0.9533333333333333,0.9666666666666667,0.96,0.96,0.9533333333333333,0.9533333333333333,0.9533333333333333,0.96,0.9666666666666667,0.9666666666666667,0.96,0.96,0.9533333333333333,0.9666666666666667,0.9666666666666667,0.9533333333333333,0.96,0.9533333333333333,0.9533333333333333,0.9666666666666667,0.9666666666666667,0.9533333333333333,0.96,0.9466666666666667,0.9333333333333332,0.96,0.96,0.96,0.9666666666666667,0.9666666666666667,0.9533333333333333,0.9666666666666667,0.9533333333333333,0.96,0.9666666666666667,0.96,0.9666666666666667,0.96,0.9666666666666667,0.96,0.9533333333333333,0.96,0.9533333333333333,0.9466666666666667,0.9533333333333333,0.9466666666666667,0.86,0.96,0.9666666666666667],\"type\":\"scatter\",\"xaxis\":\"x3\",\"yaxis\":\"y3\"},{\"marker\":{\"color\":[0,3,7,8,18,26,29,37,40,50,65,75,87,99],\"colorbar\":{\"title\":{\"text\":\"Trial\"},\"x\":1.0,\"xpad\":40},\"colorscale\":[[0.0,\"rgb(247,251,255)\"],[0.125,\"rgb(222,235,247)\"],[0.25,\"rgb(198,219,239)\"],[0.375,\"rgb(158,202,225)\"],[0.5,\"rgb(107,174,214)\"],[0.625,\"rgb(66,146,198)\"],[0.75,\"rgb(33,113,181)\"],[0.875,\"rgb(8,81,156)\"],[1.0,\"rgb(8,48,107)\"]],\"line\":{\"color\":\"Grey\",\"width\":0.5},\"showscale\":false},\"mode\":\"markers\",\"name\":\"Feasible Trial\",\"showlegend\":false,\"x\":[0.00031242958577736,460.27580601779846,1.237934051629655e-6,1243637804.2884455,1.6276032346956413e-9,984.4499373669016,2163386857.781533,0.06201444701694178,1.1669669961503557e-10,151367.3367602006,0.000014127414861400794,887880.6717681349,0.32622340848910825,7.98810235436953e-8],\"y\":[0.32,0.9466666666666667,0.32,0.96,0.32,0.96,0.96,0.9266666666666666,0.32,0.96,0.32,0.96,0.96,0.32],\"type\":\"scatter\",\"xaxis\":\"x4\",\"yaxis\":\"y4\"}],                        {\"template\":{\"data\":{\"histogram2dcontour\":[{\"type\":\"histogram2dcontour\",\"colorbar\":{\"outlinewidth\":0,\"ticks\":\"\"},\"colorscale\":[[0.0,\"#0d0887\"],[0.1111111111111111,\"#46039f\"],[0.2222222222222222,\"#7201a8\"],[0.3333333333333333,\"#9c179e\"],[0.4444444444444444,\"#bd3786\"],[0.5555555555555556,\"#d8576b\"],[0.6666666666666666,\"#ed7953\"],[0.7777777777777778,\"#fb9f3a\"],[0.8888888888888888,\"#fdca26\"],[1.0,\"#f0f921\"]]}],\"choropleth\":[{\"type\":\"choropleth\",\"colorbar\":{\"outlinewidth\":0,\"ticks\":\"\"}}],\"histogram2d\":[{\"type\":\"histogram2d\",\"colorbar\":{\"outlinewidth\":0,\"ticks\":\"\"},\"colorscale\":[[0.0,\"#0d0887\"],[0.1111111111111111,\"#46039f\"],[0.2222222222222222,\"#7201a8\"],[0.3333333333333333,\"#9c179e\"],[0.4444444444444444,\"#bd3786\"],[0.5555555555555556,\"#d8576b\"],[0.6666666666666666,\"#ed7953\"],[0.7777777777777778,\"#fb9f3a\"],[0.8888888888888888,\"#fdca26\"],[1.0,\"#f0f921\"]]}],\"heatmap\":[{\"type\":\"heatmap\",\"colorbar\":{\"outlinewidth\":0,\"ticks\":\"\"},\"colorscale\":[[0.0,\"#0d0887\"],[0.1111111111111111,\"#46039f\"],[0.2222222222222222,\"#7201a8\"],[0.3333333333333333,\"#9c179e\"],[0.4444444444444444,\"#bd3786\"],[0.5555555555555556,\"#d8576b\"],[0.6666666666666666,\"#ed7953\"],[0.7777777777777778,\"#fb9f3a\"],[0.8888888888888888,\"#fdca26\"],[1.0,\"#f0f921\"]]}],\"heatmapgl\":[{\"type\":\"heatmapgl\",\"colorbar\":{\"outlinewidth\":0,\"ticks\":\"\"},\"colorscale\":[[0.0,\"#0d0887\"],[0.1111111111111111,\"#46039f\"],[0.2222222222222222,\"#7201a8\"],[0.3333333333333333,\"#9c179e\"],[0.4444444444444444,\"#bd3786\"],[0.5555555555555556,\"#d8576b\"],[0.6666666666666666,\"#ed7953\"],[0.7777777777777778,\"#fb9f3a\"],[0.8888888888888888,\"#fdca26\"],[1.0,\"#f0f921\"]]}],\"contourcarpet\":[{\"type\":\"contourcarpet\",\"colorbar\":{\"outlinewidth\":0,\"ticks\":\"\"}}],\"contour\":[{\"type\":\"contour\",\"colorbar\":{\"outlinewidth\":0,\"ticks\":\"\"},\"colorscale\":[[0.0,\"#0d0887\"],[0.1111111111111111,\"#46039f\"],[0.2222222222222222,\"#7201a8\"],[0.3333333333333333,\"#9c179e\"],[0.4444444444444444,\"#bd3786\"],[0.5555555555555556,\"#d8576b\"],[0.6666666666666666,\"#ed7953\"],[0.7777777777777778,\"#fb9f3a\"],[0.8888888888888888,\"#fdca26\"],[1.0,\"#f0f921\"]]}],\"surface\":[{\"type\":\"surface\",\"colorbar\":{\"outlinewidth\":0,\"ticks\":\"\"},\"colorscale\":[[0.0,\"#0d0887\"],[0.1111111111111111,\"#46039f\"],[0.2222222222222222,\"#7201a8\"],[0.3333333333333333,\"#9c179e\"],[0.4444444444444444,\"#bd3786\"],[0.5555555555555556,\"#d8576b\"],[0.6666666666666666,\"#ed7953\"],[0.7777777777777778,\"#fb9f3a\"],[0.8888888888888888,\"#fdca26\"],[1.0,\"#f0f921\"]]}],\"mesh3d\":[{\"type\":\"mesh3d\",\"colorbar\":{\"outlinewidth\":0,\"ticks\":\"\"}}],\"scatter\":[{\"fillpattern\":{\"fillmode\":\"overlay\",\"size\":10,\"solidity\":0.2},\"type\":\"scatter\"}],\"parcoords\":[{\"type\":\"parcoords\",\"line\":{\"colorbar\":{\"outlinewidth\":0,\"ticks\":\"\"}}}],\"scatterpolargl\":[{\"type\":\"scatterpolargl\",\"marker\":{\"colorbar\":{\"outlinewidth\":0,\"ticks\":\"\"}}}],\"bar\":[{\"error_x\":{\"color\":\"#2a3f5f\"},\"error_y\":{\"color\":\"#2a3f5f\"},\"marker\":{\"line\":{\"color\":\"#E5ECF6\",\"width\":0.5},\"pattern\":{\"fillmode\":\"overlay\",\"size\":10,\"solidity\":0.2}},\"type\":\"bar\"}],\"scattergeo\":[{\"type\":\"scattergeo\",\"marker\":{\"colorbar\":{\"outlinewidth\":0,\"ticks\":\"\"}}}],\"scatterpolar\":[{\"type\":\"scatterpolar\",\"marker\":{\"colorbar\":{\"outlinewidth\":0,\"ticks\":\"\"}}}],\"histogram\":[{\"marker\":{\"pattern\":{\"fillmode\":\"overlay\",\"size\":10,\"solidity\":0.2}},\"type\":\"histogram\"}],\"scattergl\":[{\"type\":\"scattergl\",\"marker\":{\"colorbar\":{\"outlinewidth\":0,\"ticks\":\"\"}}}],\"scatter3d\":[{\"type\":\"scatter3d\",\"line\":{\"colorbar\":{\"outlinewidth\":0,\"ticks\":\"\"}},\"marker\":{\"colorbar\":{\"outlinewidth\":0,\"ticks\":\"\"}}}],\"scattermapbox\":[{\"type\":\"scattermapbox\",\"marker\":{\"colorbar\":{\"outlinewidth\":0,\"ticks\":\"\"}}}],\"scatterternary\":[{\"type\":\"scatterternary\",\"marker\":{\"colorbar\":{\"outlinewidth\":0,\"ticks\":\"\"}}}],\"scattercarpet\":[{\"type\":\"scattercarpet\",\"marker\":{\"colorbar\":{\"outlinewidth\":0,\"ticks\":\"\"}}}],\"carpet\":[{\"aaxis\":{\"endlinecolor\":\"#2a3f5f\",\"gridcolor\":\"white\",\"linecolor\":\"white\",\"minorgridcolor\":\"white\",\"startlinecolor\":\"#2a3f5f\"},\"baxis\":{\"endlinecolor\":\"#2a3f5f\",\"gridcolor\":\"white\",\"linecolor\":\"white\",\"minorgridcolor\":\"white\",\"startlinecolor\":\"#2a3f5f\"},\"type\":\"carpet\"}],\"table\":[{\"cells\":{\"fill\":{\"color\":\"#EBF0F8\"},\"line\":{\"color\":\"white\"}},\"header\":{\"fill\":{\"color\":\"#C8D4E3\"},\"line\":{\"color\":\"white\"}},\"type\":\"table\"}],\"barpolar\":[{\"marker\":{\"line\":{\"color\":\"#E5ECF6\",\"width\":0.5},\"pattern\":{\"fillmode\":\"overlay\",\"size\":10,\"solidity\":0.2}},\"type\":\"barpolar\"}],\"pie\":[{\"automargin\":true,\"type\":\"pie\"}]},\"layout\":{\"autotypenumbers\":\"strict\",\"colorway\":[\"#636efa\",\"#EF553B\",\"#00cc96\",\"#ab63fa\",\"#FFA15A\",\"#19d3f3\",\"#FF6692\",\"#B6E880\",\"#FF97FF\",\"#FECB52\"],\"font\":{\"color\":\"#2a3f5f\"},\"hovermode\":\"closest\",\"hoverlabel\":{\"align\":\"left\"},\"paper_bgcolor\":\"white\",\"plot_bgcolor\":\"#E5ECF6\",\"polar\":{\"bgcolor\":\"#E5ECF6\",\"angularaxis\":{\"gridcolor\":\"white\",\"linecolor\":\"white\",\"ticks\":\"\"},\"radialaxis\":{\"gridcolor\":\"white\",\"linecolor\":\"white\",\"ticks\":\"\"}},\"ternary\":{\"bgcolor\":\"#E5ECF6\",\"aaxis\":{\"gridcolor\":\"white\",\"linecolor\":\"white\",\"ticks\":\"\"},\"baxis\":{\"gridcolor\":\"white\",\"linecolor\":\"white\",\"ticks\":\"\"},\"caxis\":{\"gridcolor\":\"white\",\"linecolor\":\"white\",\"ticks\":\"\"}},\"coloraxis\":{\"colorbar\":{\"outlinewidth\":0,\"ticks\":\"\"}},\"colorscale\":{\"sequential\":[[0.0,\"#0d0887\"],[0.1111111111111111,\"#46039f\"],[0.2222222222222222,\"#7201a8\"],[0.3333333333333333,\"#9c179e\"],[0.4444444444444444,\"#bd3786\"],[0.5555555555555556,\"#d8576b\"],[0.6666666666666666,\"#ed7953\"],[0.7777777777777778,\"#fb9f3a\"],[0.8888888888888888,\"#fdca26\"],[1.0,\"#f0f921\"]],\"sequentialminus\":[[0.0,\"#0d0887\"],[0.1111111111111111,\"#46039f\"],[0.2222222222222222,\"#7201a8\"],[0.3333333333333333,\"#9c179e\"],[0.4444444444444444,\"#bd3786\"],[0.5555555555555556,\"#d8576b\"],[0.6666666666666666,\"#ed7953\"],[0.7777777777777778,\"#fb9f3a\"],[0.8888888888888888,\"#fdca26\"],[1.0,\"#f0f921\"]],\"diverging\":[[0,\"#8e0152\"],[0.1,\"#c51b7d\"],[0.2,\"#de77ae\"],[0.3,\"#f1b6da\"],[0.4,\"#fde0ef\"],[0.5,\"#f7f7f7\"],[0.6,\"#e6f5d0\"],[0.7,\"#b8e186\"],[0.8,\"#7fbc41\"],[0.9,\"#4d9221\"],[1,\"#276419\"]]},\"xaxis\":{\"gridcolor\":\"white\",\"linecolor\":\"white\",\"ticks\":\"\",\"title\":{\"standoff\":15},\"zerolinecolor\":\"white\",\"automargin\":true,\"zerolinewidth\":2},\"yaxis\":{\"gridcolor\":\"white\",\"linecolor\":\"white\",\"ticks\":\"\",\"title\":{\"standoff\":15},\"zerolinecolor\":\"white\",\"automargin\":true,\"zerolinewidth\":2},\"scene\":{\"xaxis\":{\"backgroundcolor\":\"#E5ECF6\",\"gridcolor\":\"white\",\"linecolor\":\"white\",\"showbackground\":true,\"ticks\":\"\",\"zerolinecolor\":\"white\",\"gridwidth\":2},\"yaxis\":{\"backgroundcolor\":\"#E5ECF6\",\"gridcolor\":\"white\",\"linecolor\":\"white\",\"showbackground\":true,\"ticks\":\"\",\"zerolinecolor\":\"white\",\"gridwidth\":2},\"zaxis\":{\"backgroundcolor\":\"#E5ECF6\",\"gridcolor\":\"white\",\"linecolor\":\"white\",\"showbackground\":true,\"ticks\":\"\",\"zerolinecolor\":\"white\",\"gridwidth\":2}},\"shapedefaults\":{\"line\":{\"color\":\"#2a3f5f\"}},\"annotationdefaults\":{\"arrowcolor\":\"#2a3f5f\",\"arrowhead\":0,\"arrowwidth\":1},\"geo\":{\"bgcolor\":\"white\",\"landcolor\":\"#E5ECF6\",\"subunitcolor\":\"white\",\"showland\":true,\"showlakes\":true,\"lakecolor\":\"white\"},\"title\":{\"x\":0.05},\"mapbox\":{\"style\":\"light\"}}},\"xaxis\":{\"anchor\":\"y\",\"domain\":[0.0,0.2125],\"title\":{\"text\":\"classifier\"},\"type\":\"category\",\"categoryorder\":\"array\",\"categoryarray\":[\"RandomForest\",\"SVC\"]},\"yaxis\":{\"anchor\":\"x\",\"domain\":[0.0,1.0],\"title\":{\"text\":\"Objective Value\"}},\"xaxis2\":{\"anchor\":\"y2\",\"domain\":[0.2625,0.475],\"title\":{\"text\":\"max_depth\"},\"type\":\"log\"},\"yaxis2\":{\"anchor\":\"x2\",\"domain\":[0.0,1.0],\"matches\":\"y\",\"showticklabels\":false},\"xaxis3\":{\"anchor\":\"y3\",\"domain\":[0.525,0.7375],\"title\":{\"text\":\"n_estimators\"}},\"yaxis3\":{\"anchor\":\"x3\",\"domain\":[0.0,1.0],\"matches\":\"y\",\"showticklabels\":false},\"xaxis4\":{\"anchor\":\"y4\",\"domain\":[0.7875,1.0],\"title\":{\"text\":\"svc_c\"},\"type\":\"log\"},\"yaxis4\":{\"anchor\":\"x4\",\"domain\":[0.0,1.0],\"matches\":\"y\",\"showticklabels\":false},\"title\":{\"text\":\"Slice Plot\"},\"width\":1200},                        {\"responsive\": true}                    ).then(function(){\n",
              "                            \n",
              "var gd = document.getElementById('c14c9b4b-32c5-44e7-9bf3-d9afde277bb8');\n",
              "var x = new MutationObserver(function (mutations, observer) {{\n",
              "        var display = window.getComputedStyle(gd).display;\n",
              "        if (!display || display === 'none') {{\n",
              "            console.log([gd, 'removed!']);\n",
              "            Plotly.purge(gd);\n",
              "            observer.disconnect();\n",
              "        }}\n",
              "}});\n",
              "\n",
              "// Listen for the removal of the full notebook cells\n",
              "var notebookContainer = gd.closest('#notebook-container');\n",
              "if (notebookContainer) {{\n",
              "    x.observe(notebookContainer, {childList: true});\n",
              "}}\n",
              "\n",
              "// Listen for the clearing of the current output cell\n",
              "var outputEl = gd.closest('.output');\n",
              "if (outputEl) {{\n",
              "    x.observe(outputEl, {childList: true});\n",
              "}}\n",
              "\n",
              "                        })                };                            </script>        </div>\n",
              "</body>\n",
              "</html>"
            ]
          },
          "metadata": {}
        }
      ],
      "source": [
        "optuna.visualization.plot_slice(study)"
      ]
    },
    {
      "cell_type": "markdown",
      "metadata": {
        "id": "MzW-QzG6BR5r"
      },
      "source": [
        "Plotting the accuracy surface for the hyperparameters involved in the random forest model."
      ]
    },
    {
      "cell_type": "code",
      "execution_count": 25,
      "metadata": {
        "colab": {
          "base_uri": "https://localhost:8080/",
          "height": 542
        },
        "id": "pd6jzSG5BR5r",
        "outputId": "6a481105-dfec-48b9-c906-83533e056a4c"
      },
      "outputs": [
        {
          "output_type": "display_data",
          "data": {
            "text/html": [
              "<html>\n",
              "<head><meta charset=\"utf-8\" /></head>\n",
              "<body>\n",
              "    <div>            <script src=\"https://cdnjs.cloudflare.com/ajax/libs/mathjax/2.7.5/MathJax.js?config=TeX-AMS-MML_SVG\"></script><script type=\"text/javascript\">if (window.MathJax && window.MathJax.Hub && window.MathJax.Hub.Config) {window.MathJax.Hub.Config({SVG: {font: \"STIX-Web\"}});}</script>                <script type=\"text/javascript\">window.PlotlyConfig = {MathJaxConfig: 'local'};</script>\n",
              "        <script charset=\"utf-8\" src=\"https://cdn.plot.ly/plotly-2.35.2.min.js\"></script>                <div id=\"957c6790-4308-4394-8fdf-6271b8b7946f\" class=\"plotly-graph-div\" style=\"height:525px; width:100%;\"></div>            <script type=\"text/javascript\">                                    window.PLOTLYENV=window.PLOTLYENV || {};                                    if (document.getElementById(\"957c6790-4308-4394-8fdf-6271b8b7946f\")) {                    Plotly.newPlot(                        \"957c6790-4308-4394-8fdf-6271b8b7946f\",                        [{\"colorbar\":{\"title\":{\"text\":\"Objective Value\"}},\"colorscale\":[[0.0,\"rgb(247,251,255)\"],[0.125,\"rgb(222,235,247)\"],[0.25,\"rgb(198,219,239)\"],[0.375,\"rgb(158,202,225)\"],[0.5,\"rgb(107,174,214)\"],[0.625,\"rgb(66,146,198)\"],[0.75,\"rgb(33,113,181)\"],[0.875,\"rgb(8,81,156)\"],[1.0,\"rgb(8,48,107)\"]],\"connectgaps\":true,\"contours\":{\"coloring\":\"heatmap\"},\"hoverinfo\":\"none\",\"line\":{\"smoothing\":1.3},\"reversescale\":false,\"x\":[0.8417505199443249,1.0001577750333317,1.0111288365962674,1.620604077294059,1.7077557240357757,2.6978772477413693,2.964341758623043,3.5021683372127503,3.608971429558969,4.24959892503104,4.434832671516775,4.967199553059096,5.223990097396126,5.640578946650227,5.669283067982343,5.878982952338544,6.081074004510159,6.342717357398043,6.569945224098754,6.581740642467166,6.9216511444496875,7.313705980009629,7.59460378948218,7.612327235727387,7.618572558485809,8.048208189342757,8.185589654396503,8.211192595745331,8.364639312950557,8.859947616067826,9.124935589635902,9.233181616808286,9.828812531047546,9.871648899550996,9.918685451701561,10.252096170654028,10.520895590162972,10.764103137508556,10.886002785319123,11.013395580917582,11.0772294252996,11.494474721629478,11.849751717103524,11.894429854356913,12.337437694555723,12.461137315811321,12.50720158899612,12.854575306953079,12.984844973700298,13.154390171806035,13.372555304195744,13.50048602790278,13.694960234176065,13.704894865909454,14.386794565080075,14.53043164011562,14.844948586267153,14.938149740159975,15.39461449758445,15.6478337210737,16.117416907102204,16.560642951285296,17.657235073296736,17.741163466994166,18.039409837155095,18.163012128402578,18.360425711524343,19.602863416347628,19.823667527487626,20.06610948288619,20.717206151564167,21.05791112736846,21.685788378010486,22.666088854332383,22.667161404041142,23.984575229317326,24.27805790112502,24.920392662265446,25.198277686037766,26.06746693988955,26.967156348894427,27.238643617301342,28.55155936351996,29.543965283839615,30.022116534904175,30.420625448061692,31.460886607346566,37.381444506694095],\"y\":[1.1,2,3,4,5,6,7,8,9,10,11,12,13,14,15,16,17,18,19,20,20.9],\"z\":[[null,null,null,null,null,null,null,null,null,null,null,null,null,null,null,null,null,null,null,null,null,null,null,null,null,null,null,null,null,null,null,null,null,null,null,null,null,null,null,null,null,null,null,null,null,null,null,null,null,null,null,null,null,null,null,null,null,null,null,null,null,null,null,null,null,null,null,null,null,null,null,null,null,null,null,null,null,null,null,null,null,null,null,null,null,null,null,null],[null,null,null,null,null,null,null,null,null,null,null,null,null,null,null,null,0.94,null,null,null,null,null,null,null,null,null,null,null,null,null,null,null,null,null,null,null,null,null,null,null,null,null,null,null,null,null,null,null,null,null,0.9333333333333332,null,null,null,null,null,null,null,null,null,null,null,null,null,null,null,null,null,null,null,null,null,null,null,null,null,null,null,null,null,null,null,null,null,null,null,null,null],[null,null,null,null,null,null,0.9,null,null,null,null,null,null,null,null,null,null,null,null,null,null,null,null,null,null,null,null,null,null,null,null,null,null,null,null,null,null,null,null,null,null,null,null,null,null,null,null,null,null,null,null,null,null,null,null,null,null,null,null,null,null,null,null,null,null,null,null,null,null,null,null,null,null,null,null,null,null,null,null,null,null,null,null,null,null,null,null,null],[null,null,null,null,null,null,null,null,null,null,null,null,null,null,null,null,null,null,null,null,null,null,null,null,null,null,null,null,null,null,null,null,null,null,null,null,null,null,null,null,null,null,null,null,null,null,null,0.9666666666666667,null,null,null,null,null,null,null,null,null,null,null,null,null,null,null,null,null,null,null,null,null,null,null,null,null,null,null,null,null,null,null,null,null,null,null,null,null,null,null,null],[null,null,null,null,null,null,null,null,null,null,null,null,null,null,null,null,null,null,null,null,null,null,null,null,null,null,null,null,0.9466666666666667,null,null,null,null,null,null,null,null,null,null,null,null,null,null,null,null,null,null,null,null,null,null,null,null,null,null,null,null,null,null,null,null,null,null,null,null,null,null,null,null,null,null,null,null,null,null,null,null,null,null,null,null,null,null,null,null,null,null,null],[null,null,null,null,null,null,null,null,null,null,null,null,null,null,null,null,null,0.96,null,null,null,null,null,null,null,0.9666666666666667,0.9466666666666667,null,null,null,null,null,null,null,null,null,null,null,null,null,null,null,null,null,null,null,null,null,null,null,null,null,null,null,null,null,null,null,null,null,null,null,null,null,null,null,null,null,null,null,null,null,null,null,null,null,null,null,null,null,null,null,null,null,null,null,null,null],[null,null,null,0.7000000000000001,null,null,null,null,null,null,null,null,null,null,null,null,null,null,null,null,null,null,null,null,null,null,null,null,null,null,0.9666666666666667,null,null,null,null,null,null,null,null,null,null,null,null,null,null,null,null,null,null,null,null,null,null,null,null,null,null,null,null,0.9533333333333333,null,null,null,null,null,null,null,null,null,null,null,null,null,null,null,null,null,null,null,null,null,null,null,null,null,null,null,null],[null,null,null,null,null,null,null,null,null,0.9533333333333333,null,null,null,0.96,null,null,null,null,null,null,null,null,null,null,null,null,null,null,null,null,null,null,null,null,null,null,null,0.9533333333333333,null,null,null,null,null,null,null,null,null,null,null,null,null,null,null,null,null,null,null,null,null,null,null,null,null,null,null,null,null,null,null,null,null,null,null,null,null,null,null,null,null,null,null,null,null,null,null,null,null,null],[null,null,null,null,null,null,null,null,null,null,null,null,null,null,null,null,null,null,null,null,null,null,null,null,null,null,null,null,null,null,null,null,null,null,null,0.96,null,null,null,null,null,null,null,null,null,null,null,null,null,null,null,null,0.9733333333333333,null,null,null,null,null,null,null,null,null,null,null,null,null,null,null,null,null,null,0.9666666666666667,null,null,null,null,null,null,null,null,0.9533333333333333,null,null,null,null,null,null,null],[null,null,null,null,null,null,null,null,0.9533333333333333,null,null,null,null,null,null,null,null,null,null,null,null,null,null,null,null,null,null,null,null,null,null,null,null,null,null,null,null,null,null,null,null,null,null,null,null,null,null,null,null,null,null,null,null,null,null,null,null,0.96,null,null,null,null,null,0.96,null,null,null,null,null,null,null,null,null,null,null,null,null,null,null,null,null,null,null,0.9533333333333333,null,null,null,null],[null,null,null,null,null,null,null,null,null,null,null,null,0.96,null,null,null,null,null,null,null,null,null,null,null,null,null,null,null,null,null,null,null,null,null,null,null,null,null,null,null,null,null,null,null,null,null,null,null,null,null,null,null,null,null,null,null,null,null,null,null,null,null,0.9533333333333333,null,null,null,null,null,null,null,null,null,null,null,null,null,null,null,null,null,null,null,0.9666666666666667,null,null,0.9666666666666667,0.9533333333333333,null],[null,0.8733333333333334,null,null,null,0.96,null,null,null,null,null,null,null,null,0.9533333333333333,null,null,null,null,null,null,null,null,null,null,null,null,null,null,null,null,null,null,null,null,null,null,null,null,null,null,null,null,null,null,null,null,null,null,null,null,null,null,0.9533333333333333,0.96,null,null,null,null,null,null,null,null,null,null,null,null,null,null,null,null,null,null,null,null,null,null,null,null,null,null,null,null,null,null,null,null,null],[null,null,null,null,0.9266666666666666,null,null,null,null,null,0.9533333333333333,null,null,null,null,null,null,null,null,0.9666666666666667,null,0.9666666666666667,null,null,null,null,null,null,null,0.96,null,null,null,null,null,null,null,null,null,null,null,null,null,null,null,null,null,null,null,null,null,null,null,null,null,null,null,null,null,null,null,null,null,null,null,null,null,0.96,null,null,null,null,null,null,null,null,null,null,0.96,null,null,null,null,null,null,null,null,null],[null,null,null,null,null,null,null,null,null,null,null,null,null,null,null,null,null,null,null,null,null,null,null,null,null,null,null,0.9533333333333333,null,null,null,null,0.9666666666666667,null,null,null,null,null,null,null,null,null,null,0.9533333333333333,null,null,null,null,0.9733333333333333,null,null,null,null,null,null,null,null,null,null,null,null,0.9666666666666667,null,null,null,0.9466666666666667,null,null,null,null,null,null,null,null,null,0.9533333333333333,null,null,null,null,null,null,null,null,null,null,null,null],[null,null,null,null,null,null,null,null,null,null,null,null,null,null,null,0.96,null,null,null,null,null,null,null,0.96,null,null,null,null,null,null,null,null,null,null,null,null,null,null,null,null,null,null,0.9533333333333333,null,null,null,null,null,null,null,null,null,null,null,null,0.96,null,null,null,null,null,null,null,null,null,null,0.9666666666666667,null,null,0.9533333333333333,null,null,null,null,null,null,null,0.9666666666666667,null,0.96,null,null,null,null,null,null,null,null],[null,null,0.86,null,null,null,null,null,null,null,null,null,null,null,null,null,null,null,null,null,0.96,null,null,null,null,null,null,null,null,null,null,0.9666666666666667,null,null,null,null,null,null,0.9666666666666667,null,0.9533333333333333,0.9533333333333333,null,null,0.9666666666666667,null,null,null,null,null,null,null,null,null,null,null,null,null,null,null,null,null,null,null,null,null,null,null,null,null,null,null,null,null,null,null,0.96,null,null,null,null,null,null,null,null,null,null,null],[null,null,null,null,null,null,null,null,null,null,null,null,null,null,null,null,null,null,0.9466666666666667,null,null,null,null,null,null,null,null,null,null,null,null,null,null,0.9466666666666667,null,null,0.9666666666666667,null,null,null,null,null,null,null,null,null,0.9733333333333333,null,null,0.9666666666666667,null,0.96,null,null,null,null,null,null,null,null,null,null,null,null,0.96,null,null,null,0.96,null,null,null,null,null,null,null,null,null,null,null,null,0.9666666666666667,null,null,null,null,null,null],[null,null,null,null,null,null,null,null,null,null,null,null,null,null,null,null,null,null,null,null,null,null,0.9666666666666667,null,0.9666666666666667,null,null,null,null,null,null,null,null,null,0.9533333333333333,null,null,null,null,null,null,null,null,null,null,0.9533333333333333,null,null,null,null,null,null,null,null,null,null,null,null,0.96,null,null,null,null,null,null,null,null,null,null,null,0.9666666666666667,null,null,0.96,null,null,null,null,null,null,null,null,null,null,null,null,null,null],[null,null,null,null,null,null,null,null,null,null,null,0.96,null,null,null,null,null,null,null,null,null,null,null,null,null,null,null,null,null,null,null,null,null,null,null,null,null,null,null,null,null,null,null,null,null,null,null,null,null,null,null,null,null,null,null,null,0.9466666666666667,null,null,null,0.9666666666666667,null,null,null,null,null,null,null,null,null,null,null,0.96,null,null,null,null,null,null,null,null,null,null,null,0.9533333333333333,null,null,null],[null,null,null,null,null,null,null,0.96,null,null,null,null,null,null,null,null,null,null,null,null,null,null,null,null,null,null,null,null,null,null,null,null,null,null,null,null,null,null,null,0.9533333333333333,null,null,null,null,null,null,null,null,null,null,null,null,null,null,null,null,null,null,null,null,null,null,null,null,null,null,null,null,null,null,null,null,null,null,0.9533333333333333,null,null,null,null,null,null,null,null,null,null,null,null,null],[null,null,null,null,null,null,null,null,null,null,null,null,null,null,null,null,null,null,null,null,null,null,null,null,null,null,null,null,null,null,null,null,null,null,null,null,null,null,null,null,null,null,null,null,null,null,null,null,null,null,null,null,null,null,null,null,null,null,null,null,null,null,null,null,null,null,null,null,null,null,null,null,null,null,null,null,null,null,null,null,null,null,null,null,null,null,null,null]],\"type\":\"contour\"},{\"marker\":{\"color\":\"black\",\"line\":{\"color\":\"Gray\",\"width\":2.0}},\"mode\":\"markers\",\"name\":\"Feasible Trial\",\"showlegend\":false,\"x\":[1.7077557240357757,6.081074004510159,3.5021683372127503,6.581740642467166,5.669283067982343,1.620604077294059,20.717206151564167,30.022116534904175,20.06610948288619,10.886002785319123,13.694960234176065,10.764103137508556,10.252096170654028,2.964341758623043,8.185589654396503,3.608971429558969,18.039409837155095,18.163012128402578,30.420625448061692,15.39461449758445,8.048208189342757,1.0001577750333317,24.920392662265446,14.938149740159975,12.50720158899612,13.154390171806035,22.667161404041142,7.618572558485809,12.984844973700298,11.894429854356913,4.434832671516775,8.859947616067826,14.53043164011562,6.569945224098754,17.657235073296736,24.27805790112502,4.967199553059096,13.704894865909454,9.828812531047546,21.685788378010486,6.9216511444496875,11.494474721629478,9.918685451701561,11.849751717103524,5.640578946650227,9.233181616808286,16.560642951285296,19.823667527487626,2.6978772477413693,26.967156348894427,12.854575306953079,28.55155936351996,29.543965283839615,19.602863416347628,31.460886607346566,15.6478337210737,21.05791112736846,7.59460378948218,11.013395580917582,25.198277686037766,8.364639312950557,13.372555304195744,6.342717357398043,7.612327235727387,5.223990097396126,10.520895590162972,9.124935589635902,4.24959892503104,16.117416907102204,23.984575229317326,26.06746693988955,12.337437694555723,14.386794565080075,18.360425711524343,22.666088854332383,7.313705980009629,17.741163466994166,8.211192595745331,13.50048602790278,11.0772294252996,9.871648899550996,12.461137315811321,14.844948586267153,1.0111288365962674,5.878982952338544,27.238643617301342],\"y\":[13,2,20,13,12,7,18,19,15,16,9,8,9,3,6,10,17,14,11,18,6,12,15,10,17,17,20,18,14,14,13,13,15,17,11,16,19,12,14,19,16,16,18,15,8,16,14,17,12,9,4,11,10,13,11,7,9,18,20,13,5,2,6,15,11,17,7,8,19,14,15,16,12,15,18,13,10,14,17,16,17,18,19,16,15,17],\"type\":\"scatter\"},{\"marker\":{\"color\":\"#cccccc\",\"line\":{\"color\":\"Gray\",\"width\":2.0}},\"mode\":\"markers\",\"name\":\"Infeasible Trial\",\"showlegend\":false,\"x\":[],\"y\":[],\"type\":\"scatter\"}],                        {\"title\":{\"text\":\"Contour Plot\"},\"template\":{\"data\":{\"histogram2dcontour\":[{\"type\":\"histogram2dcontour\",\"colorbar\":{\"outlinewidth\":0,\"ticks\":\"\"},\"colorscale\":[[0.0,\"#0d0887\"],[0.1111111111111111,\"#46039f\"],[0.2222222222222222,\"#7201a8\"],[0.3333333333333333,\"#9c179e\"],[0.4444444444444444,\"#bd3786\"],[0.5555555555555556,\"#d8576b\"],[0.6666666666666666,\"#ed7953\"],[0.7777777777777778,\"#fb9f3a\"],[0.8888888888888888,\"#fdca26\"],[1.0,\"#f0f921\"]]}],\"choropleth\":[{\"type\":\"choropleth\",\"colorbar\":{\"outlinewidth\":0,\"ticks\":\"\"}}],\"histogram2d\":[{\"type\":\"histogram2d\",\"colorbar\":{\"outlinewidth\":0,\"ticks\":\"\"},\"colorscale\":[[0.0,\"#0d0887\"],[0.1111111111111111,\"#46039f\"],[0.2222222222222222,\"#7201a8\"],[0.3333333333333333,\"#9c179e\"],[0.4444444444444444,\"#bd3786\"],[0.5555555555555556,\"#d8576b\"],[0.6666666666666666,\"#ed7953\"],[0.7777777777777778,\"#fb9f3a\"],[0.8888888888888888,\"#fdca26\"],[1.0,\"#f0f921\"]]}],\"heatmap\":[{\"type\":\"heatmap\",\"colorbar\":{\"outlinewidth\":0,\"ticks\":\"\"},\"colorscale\":[[0.0,\"#0d0887\"],[0.1111111111111111,\"#46039f\"],[0.2222222222222222,\"#7201a8\"],[0.3333333333333333,\"#9c179e\"],[0.4444444444444444,\"#bd3786\"],[0.5555555555555556,\"#d8576b\"],[0.6666666666666666,\"#ed7953\"],[0.7777777777777778,\"#fb9f3a\"],[0.8888888888888888,\"#fdca26\"],[1.0,\"#f0f921\"]]}],\"heatmapgl\":[{\"type\":\"heatmapgl\",\"colorbar\":{\"outlinewidth\":0,\"ticks\":\"\"},\"colorscale\":[[0.0,\"#0d0887\"],[0.1111111111111111,\"#46039f\"],[0.2222222222222222,\"#7201a8\"],[0.3333333333333333,\"#9c179e\"],[0.4444444444444444,\"#bd3786\"],[0.5555555555555556,\"#d8576b\"],[0.6666666666666666,\"#ed7953\"],[0.7777777777777778,\"#fb9f3a\"],[0.8888888888888888,\"#fdca26\"],[1.0,\"#f0f921\"]]}],\"contourcarpet\":[{\"type\":\"contourcarpet\",\"colorbar\":{\"outlinewidth\":0,\"ticks\":\"\"}}],\"contour\":[{\"type\":\"contour\",\"colorbar\":{\"outlinewidth\":0,\"ticks\":\"\"},\"colorscale\":[[0.0,\"#0d0887\"],[0.1111111111111111,\"#46039f\"],[0.2222222222222222,\"#7201a8\"],[0.3333333333333333,\"#9c179e\"],[0.4444444444444444,\"#bd3786\"],[0.5555555555555556,\"#d8576b\"],[0.6666666666666666,\"#ed7953\"],[0.7777777777777778,\"#fb9f3a\"],[0.8888888888888888,\"#fdca26\"],[1.0,\"#f0f921\"]]}],\"surface\":[{\"type\":\"surface\",\"colorbar\":{\"outlinewidth\":0,\"ticks\":\"\"},\"colorscale\":[[0.0,\"#0d0887\"],[0.1111111111111111,\"#46039f\"],[0.2222222222222222,\"#7201a8\"],[0.3333333333333333,\"#9c179e\"],[0.4444444444444444,\"#bd3786\"],[0.5555555555555556,\"#d8576b\"],[0.6666666666666666,\"#ed7953\"],[0.7777777777777778,\"#fb9f3a\"],[0.8888888888888888,\"#fdca26\"],[1.0,\"#f0f921\"]]}],\"mesh3d\":[{\"type\":\"mesh3d\",\"colorbar\":{\"outlinewidth\":0,\"ticks\":\"\"}}],\"scatter\":[{\"fillpattern\":{\"fillmode\":\"overlay\",\"size\":10,\"solidity\":0.2},\"type\":\"scatter\"}],\"parcoords\":[{\"type\":\"parcoords\",\"line\":{\"colorbar\":{\"outlinewidth\":0,\"ticks\":\"\"}}}],\"scatterpolargl\":[{\"type\":\"scatterpolargl\",\"marker\":{\"colorbar\":{\"outlinewidth\":0,\"ticks\":\"\"}}}],\"bar\":[{\"error_x\":{\"color\":\"#2a3f5f\"},\"error_y\":{\"color\":\"#2a3f5f\"},\"marker\":{\"line\":{\"color\":\"#E5ECF6\",\"width\":0.5},\"pattern\":{\"fillmode\":\"overlay\",\"size\":10,\"solidity\":0.2}},\"type\":\"bar\"}],\"scattergeo\":[{\"type\":\"scattergeo\",\"marker\":{\"colorbar\":{\"outlinewidth\":0,\"ticks\":\"\"}}}],\"scatterpolar\":[{\"type\":\"scatterpolar\",\"marker\":{\"colorbar\":{\"outlinewidth\":0,\"ticks\":\"\"}}}],\"histogram\":[{\"marker\":{\"pattern\":{\"fillmode\":\"overlay\",\"size\":10,\"solidity\":0.2}},\"type\":\"histogram\"}],\"scattergl\":[{\"type\":\"scattergl\",\"marker\":{\"colorbar\":{\"outlinewidth\":0,\"ticks\":\"\"}}}],\"scatter3d\":[{\"type\":\"scatter3d\",\"line\":{\"colorbar\":{\"outlinewidth\":0,\"ticks\":\"\"}},\"marker\":{\"colorbar\":{\"outlinewidth\":0,\"ticks\":\"\"}}}],\"scattermapbox\":[{\"type\":\"scattermapbox\",\"marker\":{\"colorbar\":{\"outlinewidth\":0,\"ticks\":\"\"}}}],\"scatterternary\":[{\"type\":\"scatterternary\",\"marker\":{\"colorbar\":{\"outlinewidth\":0,\"ticks\":\"\"}}}],\"scattercarpet\":[{\"type\":\"scattercarpet\",\"marker\":{\"colorbar\":{\"outlinewidth\":0,\"ticks\":\"\"}}}],\"carpet\":[{\"aaxis\":{\"endlinecolor\":\"#2a3f5f\",\"gridcolor\":\"white\",\"linecolor\":\"white\",\"minorgridcolor\":\"white\",\"startlinecolor\":\"#2a3f5f\"},\"baxis\":{\"endlinecolor\":\"#2a3f5f\",\"gridcolor\":\"white\",\"linecolor\":\"white\",\"minorgridcolor\":\"white\",\"startlinecolor\":\"#2a3f5f\"},\"type\":\"carpet\"}],\"table\":[{\"cells\":{\"fill\":{\"color\":\"#EBF0F8\"},\"line\":{\"color\":\"white\"}},\"header\":{\"fill\":{\"color\":\"#C8D4E3\"},\"line\":{\"color\":\"white\"}},\"type\":\"table\"}],\"barpolar\":[{\"marker\":{\"line\":{\"color\":\"#E5ECF6\",\"width\":0.5},\"pattern\":{\"fillmode\":\"overlay\",\"size\":10,\"solidity\":0.2}},\"type\":\"barpolar\"}],\"pie\":[{\"automargin\":true,\"type\":\"pie\"}]},\"layout\":{\"autotypenumbers\":\"strict\",\"colorway\":[\"#636efa\",\"#EF553B\",\"#00cc96\",\"#ab63fa\",\"#FFA15A\",\"#19d3f3\",\"#FF6692\",\"#B6E880\",\"#FF97FF\",\"#FECB52\"],\"font\":{\"color\":\"#2a3f5f\"},\"hovermode\":\"closest\",\"hoverlabel\":{\"align\":\"left\"},\"paper_bgcolor\":\"white\",\"plot_bgcolor\":\"#E5ECF6\",\"polar\":{\"bgcolor\":\"#E5ECF6\",\"angularaxis\":{\"gridcolor\":\"white\",\"linecolor\":\"white\",\"ticks\":\"\"},\"radialaxis\":{\"gridcolor\":\"white\",\"linecolor\":\"white\",\"ticks\":\"\"}},\"ternary\":{\"bgcolor\":\"#E5ECF6\",\"aaxis\":{\"gridcolor\":\"white\",\"linecolor\":\"white\",\"ticks\":\"\"},\"baxis\":{\"gridcolor\":\"white\",\"linecolor\":\"white\",\"ticks\":\"\"},\"caxis\":{\"gridcolor\":\"white\",\"linecolor\":\"white\",\"ticks\":\"\"}},\"coloraxis\":{\"colorbar\":{\"outlinewidth\":0,\"ticks\":\"\"}},\"colorscale\":{\"sequential\":[[0.0,\"#0d0887\"],[0.1111111111111111,\"#46039f\"],[0.2222222222222222,\"#7201a8\"],[0.3333333333333333,\"#9c179e\"],[0.4444444444444444,\"#bd3786\"],[0.5555555555555556,\"#d8576b\"],[0.6666666666666666,\"#ed7953\"],[0.7777777777777778,\"#fb9f3a\"],[0.8888888888888888,\"#fdca26\"],[1.0,\"#f0f921\"]],\"sequentialminus\":[[0.0,\"#0d0887\"],[0.1111111111111111,\"#46039f\"],[0.2222222222222222,\"#7201a8\"],[0.3333333333333333,\"#9c179e\"],[0.4444444444444444,\"#bd3786\"],[0.5555555555555556,\"#d8576b\"],[0.6666666666666666,\"#ed7953\"],[0.7777777777777778,\"#fb9f3a\"],[0.8888888888888888,\"#fdca26\"],[1.0,\"#f0f921\"]],\"diverging\":[[0,\"#8e0152\"],[0.1,\"#c51b7d\"],[0.2,\"#de77ae\"],[0.3,\"#f1b6da\"],[0.4,\"#fde0ef\"],[0.5,\"#f7f7f7\"],[0.6,\"#e6f5d0\"],[0.7,\"#b8e186\"],[0.8,\"#7fbc41\"],[0.9,\"#4d9221\"],[1,\"#276419\"]]},\"xaxis\":{\"gridcolor\":\"white\",\"linecolor\":\"white\",\"ticks\":\"\",\"title\":{\"standoff\":15},\"zerolinecolor\":\"white\",\"automargin\":true,\"zerolinewidth\":2},\"yaxis\":{\"gridcolor\":\"white\",\"linecolor\":\"white\",\"ticks\":\"\",\"title\":{\"standoff\":15},\"zerolinecolor\":\"white\",\"automargin\":true,\"zerolinewidth\":2},\"scene\":{\"xaxis\":{\"backgroundcolor\":\"#E5ECF6\",\"gridcolor\":\"white\",\"linecolor\":\"white\",\"showbackground\":true,\"ticks\":\"\",\"zerolinecolor\":\"white\",\"gridwidth\":2},\"yaxis\":{\"backgroundcolor\":\"#E5ECF6\",\"gridcolor\":\"white\",\"linecolor\":\"white\",\"showbackground\":true,\"ticks\":\"\",\"zerolinecolor\":\"white\",\"gridwidth\":2},\"zaxis\":{\"backgroundcolor\":\"#E5ECF6\",\"gridcolor\":\"white\",\"linecolor\":\"white\",\"showbackground\":true,\"ticks\":\"\",\"zerolinecolor\":\"white\",\"gridwidth\":2}},\"shapedefaults\":{\"line\":{\"color\":\"#2a3f5f\"}},\"annotationdefaults\":{\"arrowcolor\":\"#2a3f5f\",\"arrowhead\":0,\"arrowwidth\":1},\"geo\":{\"bgcolor\":\"white\",\"landcolor\":\"#E5ECF6\",\"subunitcolor\":\"white\",\"showland\":true,\"showlakes\":true,\"lakecolor\":\"white\"},\"title\":{\"x\":0.05},\"mapbox\":{\"style\":\"light\"}}},\"xaxis\":{\"title\":{\"text\":\"max_depth\"},\"range\":[-0.07481660667865435,1.572656079524493],\"type\":\"log\"},\"yaxis\":{\"title\":{\"text\":\"n_estimators\"},\"range\":[1.1,20.9]}},                        {\"responsive\": true}                    ).then(function(){\n",
              "                            \n",
              "var gd = document.getElementById('957c6790-4308-4394-8fdf-6271b8b7946f');\n",
              "var x = new MutationObserver(function (mutations, observer) {{\n",
              "        var display = window.getComputedStyle(gd).display;\n",
              "        if (!display || display === 'none') {{\n",
              "            console.log([gd, 'removed!']);\n",
              "            Plotly.purge(gd);\n",
              "            observer.disconnect();\n",
              "        }}\n",
              "}});\n",
              "\n",
              "// Listen for the removal of the full notebook cells\n",
              "var notebookContainer = gd.closest('#notebook-container');\n",
              "if (notebookContainer) {{\n",
              "    x.observe(notebookContainer, {childList: true});\n",
              "}}\n",
              "\n",
              "// Listen for the clearing of the current output cell\n",
              "var outputEl = gd.closest('.output');\n",
              "if (outputEl) {{\n",
              "    x.observe(outputEl, {childList: true});\n",
              "}}\n",
              "\n",
              "                        })                };                            </script>        </div>\n",
              "</body>\n",
              "</html>"
            ]
          },
          "metadata": {}
        }
      ],
      "source": [
        "optuna.visualization.plot_contour(study, params=[\"n_estimators\", \"max_depth\"])"
      ]
    }
  ],
  "metadata": {
    "kernelspec": {
      "display_name": "Python 3",
      "language": "python",
      "name": "python3"
    },
    "language_info": {
      "codemirror_mode": {
        "name": "ipython",
        "version": 3
      },
      "file_extension": ".py",
      "mimetype": "text/x-python",
      "name": "python",
      "nbconvert_exporter": "python",
      "pygments_lexer": "ipython3",
      "version": "3.7.4"
    },
    "colab": {
      "provenance": [],
      "include_colab_link": true
    }
  },
  "nbformat": 4,
  "nbformat_minor": 0
}